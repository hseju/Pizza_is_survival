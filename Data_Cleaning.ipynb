{
 "cells": [
  {
   "cell_type": "markdown",
   "id": "10d68fe3-7a70-4355-9bd9-afcf0d66628c",
   "metadata": {},
   "source": [
    "# Data Cleaning\n"
   ]
  },
  {
   "cell_type": "markdown",
   "id": "dc2e219d-936f-4f13-9e4d-60be5935553b",
   "metadata": {},
   "source": [
    "Data cleaning is an important step before the data is explored for analysis purpose or visualization. A cleaned data provides accurate, unbiased analysis results. "
   ]
  },
  {
   "cell_type": "code",
   "execution_count": 199,
   "id": "2579d3e2-7675-4db5-bbf0-ddacd8e7e880",
   "metadata": {},
   "outputs": [],
   "source": [
    "#imports\n",
    "\n",
    "import pandas as pd\n",
    "import numpy as np\n",
    "import os"
   ]
  },
  {
   "cell_type": "markdown",
   "id": "b2dbcaa8-3af0-4e82-85fd-967a1dc1f4c2",
   "metadata": {},
   "source": [
    "## Checking Order Details "
   ]
  },
  {
   "cell_type": "code",
   "execution_count": 200,
   "id": "b686bc95-75a5-40d2-abc3-b4b7e3792d01",
   "metadata": {},
   "outputs": [],
   "source": [
    "#get the current working directory\n",
    "cwd = os.getcwd()\n",
    "\n",
    "order_details = pd.read_csv(cwd+\"/pizza_sales_data/order_details.csv\")"
   ]
  },
  {
   "cell_type": "code",
   "execution_count": 201,
   "id": "5407e20a-23a0-4c80-9c17-554066ba2971",
   "metadata": {},
   "outputs": [
    {
     "data": {
      "text/html": [
       "<div>\n",
       "<style scoped>\n",
       "    .dataframe tbody tr th:only-of-type {\n",
       "        vertical-align: middle;\n",
       "    }\n",
       "\n",
       "    .dataframe tbody tr th {\n",
       "        vertical-align: top;\n",
       "    }\n",
       "\n",
       "    .dataframe thead th {\n",
       "        text-align: right;\n",
       "    }\n",
       "</style>\n",
       "<table border=\"1\" class=\"dataframe\">\n",
       "  <thead>\n",
       "    <tr style=\"text-align: right;\">\n",
       "      <th></th>\n",
       "      <th>order_details_id</th>\n",
       "      <th>order_id</th>\n",
       "      <th>pizza_id</th>\n",
       "      <th>quantity</th>\n",
       "    </tr>\n",
       "  </thead>\n",
       "  <tbody>\n",
       "    <tr>\n",
       "      <th>0</th>\n",
       "      <td>1</td>\n",
       "      <td>1</td>\n",
       "      <td>hawaiian_m</td>\n",
       "      <td>1</td>\n",
       "    </tr>\n",
       "    <tr>\n",
       "      <th>1</th>\n",
       "      <td>2</td>\n",
       "      <td>2</td>\n",
       "      <td>classic_dlx_m</td>\n",
       "      <td>1</td>\n",
       "    </tr>\n",
       "    <tr>\n",
       "      <th>2</th>\n",
       "      <td>3</td>\n",
       "      <td>2</td>\n",
       "      <td>five_cheese_l</td>\n",
       "      <td>1</td>\n",
       "    </tr>\n",
       "    <tr>\n",
       "      <th>3</th>\n",
       "      <td>4</td>\n",
       "      <td>2</td>\n",
       "      <td>ital_supr_l</td>\n",
       "      <td>1</td>\n",
       "    </tr>\n",
       "    <tr>\n",
       "      <th>4</th>\n",
       "      <td>5</td>\n",
       "      <td>2</td>\n",
       "      <td>mexicana_m</td>\n",
       "      <td>1</td>\n",
       "    </tr>\n",
       "  </tbody>\n",
       "</table>\n",
       "</div>"
      ],
      "text/plain": [
       "   order_details_id  order_id       pizza_id  quantity\n",
       "0                 1         1     hawaiian_m         1\n",
       "1                 2         2  classic_dlx_m         1\n",
       "2                 3         2  five_cheese_l         1\n",
       "3                 4         2    ital_supr_l         1\n",
       "4                 5         2     mexicana_m         1"
      ]
     },
     "execution_count": 201,
     "metadata": {},
     "output_type": "execute_result"
    }
   ],
   "source": [
    "#first few rows\n",
    "order_details.head()"
   ]
  },
  {
   "cell_type": "code",
   "execution_count": 202,
   "id": "4c11ffbb-191d-4620-a986-f66b3b7895df",
   "metadata": {},
   "outputs": [
    {
     "data": {
      "text/plain": [
       "(48620, 4)"
      ]
     },
     "execution_count": 202,
     "metadata": {},
     "output_type": "execute_result"
    }
   ],
   "source": [
    "#size of the data\n",
    "order_details.shape"
   ]
  },
  {
   "cell_type": "code",
   "execution_count": 203,
   "id": "53f772b1-f781-46f3-94bc-279d29b55e84",
   "metadata": {},
   "outputs": [
    {
     "data": {
      "text/plain": [
       "order_details_id  order_id  pizza_id  quantity\n",
       "False             False     False     False       48620\n",
       "dtype: int64"
      ]
     },
     "execution_count": 203,
     "metadata": {},
     "output_type": "execute_result"
    }
   ],
   "source": [
    "#let's check for any null or missing values\n",
    "order_details.isnull().value_counts()"
   ]
  },
  {
   "cell_type": "code",
   "execution_count": 204,
   "id": "e77b9692-306b-4b10-b6e5-bd2683ccf6a2",
   "metadata": {},
   "outputs": [
    {
     "data": {
      "text/plain": [
       "21350"
      ]
     },
     "execution_count": 204,
     "metadata": {},
     "output_type": "execute_result"
    }
   ],
   "source": [
    "#let's check total unique order_ids \n",
    "len(order_details.order_id.unique())"
   ]
  },
  {
   "cell_type": "markdown",
   "id": "9a24783b-1fb0-411b-815e-8cff8ad8a273",
   "metadata": {},
   "source": [
    "There are 21350 unique orders placed with each order either having atleast 1 or more than 1 pizzas. Order id is a unique identifier for each order placed by a table. "
   ]
  },
  {
   "cell_type": "markdown",
   "id": "83d7ca07-28a4-405e-acc0-cc043d20a77c",
   "metadata": {},
   "source": [
    "## Checking Orders dataset\n"
   ]
  },
  {
   "cell_type": "code",
   "execution_count": 205,
   "id": "fc90802a-669b-4ea7-809c-7ba183aba46f",
   "metadata": {},
   "outputs": [],
   "source": [
    "orders = pd.read_csv(cwd + \"/pizza_sales_data/orders.csv\")"
   ]
  },
  {
   "cell_type": "code",
   "execution_count": 206,
   "id": "0824bb78-c138-4244-9a73-e6b6ad87f2c8",
   "metadata": {},
   "outputs": [
    {
     "data": {
      "text/html": [
       "<div>\n",
       "<style scoped>\n",
       "    .dataframe tbody tr th:only-of-type {\n",
       "        vertical-align: middle;\n",
       "    }\n",
       "\n",
       "    .dataframe tbody tr th {\n",
       "        vertical-align: top;\n",
       "    }\n",
       "\n",
       "    .dataframe thead th {\n",
       "        text-align: right;\n",
       "    }\n",
       "</style>\n",
       "<table border=\"1\" class=\"dataframe\">\n",
       "  <thead>\n",
       "    <tr style=\"text-align: right;\">\n",
       "      <th></th>\n",
       "      <th>order_id</th>\n",
       "      <th>date</th>\n",
       "      <th>time</th>\n",
       "    </tr>\n",
       "  </thead>\n",
       "  <tbody>\n",
       "    <tr>\n",
       "      <th>0</th>\n",
       "      <td>1</td>\n",
       "      <td>2015-01-01</td>\n",
       "      <td>11:38:36</td>\n",
       "    </tr>\n",
       "    <tr>\n",
       "      <th>1</th>\n",
       "      <td>2</td>\n",
       "      <td>2015-01-01</td>\n",
       "      <td>11:57:40</td>\n",
       "    </tr>\n",
       "    <tr>\n",
       "      <th>2</th>\n",
       "      <td>3</td>\n",
       "      <td>2015-01-01</td>\n",
       "      <td>12:12:28</td>\n",
       "    </tr>\n",
       "    <tr>\n",
       "      <th>3</th>\n",
       "      <td>4</td>\n",
       "      <td>2015-01-01</td>\n",
       "      <td>12:16:31</td>\n",
       "    </tr>\n",
       "    <tr>\n",
       "      <th>4</th>\n",
       "      <td>5</td>\n",
       "      <td>2015-01-01</td>\n",
       "      <td>12:21:30</td>\n",
       "    </tr>\n",
       "  </tbody>\n",
       "</table>\n",
       "</div>"
      ],
      "text/plain": [
       "   order_id        date      time\n",
       "0         1  2015-01-01  11:38:36\n",
       "1         2  2015-01-01  11:57:40\n",
       "2         3  2015-01-01  12:12:28\n",
       "3         4  2015-01-01  12:16:31\n",
       "4         5  2015-01-01  12:21:30"
      ]
     },
     "execution_count": 206,
     "metadata": {},
     "output_type": "execute_result"
    }
   ],
   "source": [
    "#check first few rows\n",
    "\n",
    "orders.head()"
   ]
  },
  {
   "cell_type": "code",
   "execution_count": 207,
   "id": "4c50aa41-97a4-4fa2-b8ed-30e0c65c10e7",
   "metadata": {},
   "outputs": [
    {
     "data": {
      "text/plain": [
       "(21350, 3)"
      ]
     },
     "execution_count": 207,
     "metadata": {},
     "output_type": "execute_result"
    }
   ],
   "source": [
    "#size of the dataset\n",
    "orders.shape"
   ]
  },
  {
   "cell_type": "code",
   "execution_count": 208,
   "id": "d17738e9-bb37-42ce-8bcf-756fe680fdad",
   "metadata": {},
   "outputs": [
    {
     "data": {
      "text/plain": [
       "order_id  date   time \n",
       "False     False  False    21350\n",
       "dtype: int64"
      ]
     },
     "execution_count": 208,
     "metadata": {},
     "output_type": "execute_result"
    }
   ],
   "source": [
    "#check for missing or null values\n",
    "orders.isnull().value_counts()"
   ]
  },
  {
   "cell_type": "markdown",
   "id": "c6394469-42ff-45c2-a2fa-e1d67a15664c",
   "metadata": {},
   "source": [
    "## Checking Pizza_types"
   ]
  },
  {
   "cell_type": "code",
   "execution_count": 209,
   "id": "c3186a19-4b8e-4046-849b-c36fd1463da5",
   "metadata": {},
   "outputs": [],
   "source": [
    "pizza_type = pd.read_csv(cwd + \"/pizza_sales_data/pizza_types.csv\",encoding = 'unicode_escape')"
   ]
  },
  {
   "cell_type": "code",
   "execution_count": 210,
   "id": "b3d9c389-232d-404e-8fb0-bf87afd710d9",
   "metadata": {},
   "outputs": [
    {
     "data": {
      "text/html": [
       "<div>\n",
       "<style scoped>\n",
       "    .dataframe tbody tr th:only-of-type {\n",
       "        vertical-align: middle;\n",
       "    }\n",
       "\n",
       "    .dataframe tbody tr th {\n",
       "        vertical-align: top;\n",
       "    }\n",
       "\n",
       "    .dataframe thead th {\n",
       "        text-align: right;\n",
       "    }\n",
       "</style>\n",
       "<table border=\"1\" class=\"dataframe\">\n",
       "  <thead>\n",
       "    <tr style=\"text-align: right;\">\n",
       "      <th></th>\n",
       "      <th>pizza_type_id</th>\n",
       "      <th>name</th>\n",
       "      <th>category</th>\n",
       "      <th>ingredients</th>\n",
       "    </tr>\n",
       "  </thead>\n",
       "  <tbody>\n",
       "    <tr>\n",
       "      <th>0</th>\n",
       "      <td>bbq_ckn</td>\n",
       "      <td>The Barbecue Chicken Pizza</td>\n",
       "      <td>Chicken</td>\n",
       "      <td>Barbecued Chicken, Red Peppers, Green Peppers,...</td>\n",
       "    </tr>\n",
       "    <tr>\n",
       "      <th>1</th>\n",
       "      <td>cali_ckn</td>\n",
       "      <td>The California Chicken Pizza</td>\n",
       "      <td>Chicken</td>\n",
       "      <td>Chicken, Artichoke, Spinach, Garlic, Jalapeno ...</td>\n",
       "    </tr>\n",
       "    <tr>\n",
       "      <th>2</th>\n",
       "      <td>ckn_alfredo</td>\n",
       "      <td>The Chicken Alfredo Pizza</td>\n",
       "      <td>Chicken</td>\n",
       "      <td>Chicken, Red Onions, Red Peppers, Mushrooms, A...</td>\n",
       "    </tr>\n",
       "    <tr>\n",
       "      <th>3</th>\n",
       "      <td>ckn_pesto</td>\n",
       "      <td>The Chicken Pesto Pizza</td>\n",
       "      <td>Chicken</td>\n",
       "      <td>Chicken, Tomatoes, Red Peppers, Spinach, Garli...</td>\n",
       "    </tr>\n",
       "    <tr>\n",
       "      <th>4</th>\n",
       "      <td>southw_ckn</td>\n",
       "      <td>The Southwest Chicken Pizza</td>\n",
       "      <td>Chicken</td>\n",
       "      <td>Chicken, Tomatoes, Red Peppers, Red Onions, Ja...</td>\n",
       "    </tr>\n",
       "  </tbody>\n",
       "</table>\n",
       "</div>"
      ],
      "text/plain": [
       "  pizza_type_id                          name category  \\\n",
       "0       bbq_ckn    The Barbecue Chicken Pizza  Chicken   \n",
       "1      cali_ckn  The California Chicken Pizza  Chicken   \n",
       "2   ckn_alfredo     The Chicken Alfredo Pizza  Chicken   \n",
       "3     ckn_pesto       The Chicken Pesto Pizza  Chicken   \n",
       "4    southw_ckn   The Southwest Chicken Pizza  Chicken   \n",
       "\n",
       "                                         ingredients  \n",
       "0  Barbecued Chicken, Red Peppers, Green Peppers,...  \n",
       "1  Chicken, Artichoke, Spinach, Garlic, Jalapeno ...  \n",
       "2  Chicken, Red Onions, Red Peppers, Mushrooms, A...  \n",
       "3  Chicken, Tomatoes, Red Peppers, Spinach, Garli...  \n",
       "4  Chicken, Tomatoes, Red Peppers, Red Onions, Ja...  "
      ]
     },
     "execution_count": 210,
     "metadata": {},
     "output_type": "execute_result"
    }
   ],
   "source": [
    "pizza_type.head()"
   ]
  },
  {
   "cell_type": "code",
   "execution_count": 211,
   "id": "7c58651d-f665-4697-b78b-bda93dbdbf4e",
   "metadata": {},
   "outputs": [
    {
     "data": {
      "text/plain": [
       "(32, 4)"
      ]
     },
     "execution_count": 211,
     "metadata": {},
     "output_type": "execute_result"
    }
   ],
   "source": [
    "pizza_type.shape"
   ]
  },
  {
   "cell_type": "code",
   "execution_count": 212,
   "id": "70e0a951-99dc-4332-bbf9-ee3fe63af68a",
   "metadata": {},
   "outputs": [
    {
     "data": {
      "text/plain": [
       "pizza_type_id  name   category  ingredients\n",
       "False          False  False     False          32\n",
       "dtype: int64"
      ]
     },
     "execution_count": 212,
     "metadata": {},
     "output_type": "execute_result"
    }
   ],
   "source": [
    "#check for null or missing values\n",
    "\n",
    "pizza_type.isnull().value_counts()"
   ]
  },
  {
   "cell_type": "code",
   "execution_count": 213,
   "id": "801e43ef-31d8-47f8-bd86-f849e1042ae9",
   "metadata": {},
   "outputs": [
    {
     "data": {
      "text/plain": [
       "Supreme    9\n",
       "Veggie     9\n",
       "Classic    8\n",
       "Chicken    6\n",
       "Name: category, dtype: int64"
      ]
     },
     "execution_count": 213,
     "metadata": {},
     "output_type": "execute_result"
    }
   ],
   "source": [
    "pizza_type.category.value_counts()"
   ]
  },
  {
   "cell_type": "markdown",
   "id": "a6fcfd41-b9ac-42ef-9851-33727ecb7904",
   "metadata": {},
   "source": [
    "### Ingredients"
   ]
  },
  {
   "cell_type": "code",
   "execution_count": 214,
   "id": "a334926c-f1a0-4293-8c0b-538ef37dcf66",
   "metadata": {},
   "outputs": [
    {
     "data": {
      "text/plain": [
       "['Barbecued Chicken, Red Peppers, Green Peppers, Tomatoes, Red Onions, Barbecue Sauce',\n",
       " 'Chicken, Artichoke, Spinach, Garlic, Jalapeno Peppers, Fontina Cheese, Gouda Cheese',\n",
       " 'Chicken, Red Onions, Red Peppers, Mushrooms, Asiago Cheese, Alfredo Sauce',\n",
       " 'Chicken, Tomatoes, Red Peppers, Spinach, Garlic, Pesto Sauce',\n",
       " 'Chicken, Tomatoes, Red Peppers, Red Onions, Jalapeno Peppers, Corn, Cilantro, Chipotle Sauce',\n",
       " 'Chicken, Pineapple, Tomatoes, Red Peppers, Thai Sweet Chilli Sauce',\n",
       " 'Bacon, Pepperoni, Italian Sausage, Chorizo Sausage',\n",
       " 'Pepperoni, Mushrooms, Red Onions, Red Peppers, Bacon',\n",
       " 'Sliced Ham, Pineapple, Mozzarella Cheese',\n",
       " 'Capocollo, Red Peppers, Tomatoes, Goat Cheese, Garlic, Oregano',\n",
       " 'Tomatoes, Anchovies, Green Olives, Red Onions, Garlic',\n",
       " 'Pepperoni, Mushrooms, Green Peppers',\n",
       " 'Mozzarella Cheese, Pepperoni',\n",
       " 'Kalamata Olives, Feta Cheese, Tomatoes, Garlic, Beef Chuck Roast, Red Onions',\n",
       " 'Brie Carre Cheese, Prosciutto, Caramelized Onions, Pears, Thyme, Garlic',\n",
       " '\\x91Nduja Salami, Pancetta, Tomatoes, Red Onions, Friggitello Peppers, Garlic',\n",
       " 'Calabrese Salami, Capocollo, Tomatoes, Red Onions, Green Olives, Garlic',\n",
       " 'Genoa Salami, Capocollo, Pepperoni, Tomatoes, Asiago Cheese, Garlic',\n",
       " 'Prosciutto di San Daniele, Arugula, Mozzarella Cheese',\n",
       " 'Coarse Sicilian Salami, Tomatoes, Green Olives, Luganega Sausage, Onions, Garlic',\n",
       " 'Soppressata Salami, Fontina Cheese, Mozzarella Cheese, Mushrooms, Garlic',\n",
       " 'Capocollo, Tomatoes, Goat Cheese, Artichokes, Peperoncini verdi, Garlic',\n",
       " 'Spinach, Red Onions, Pepperoni, Tomatoes, Artichokes, Kalamata Olives, Garlic, Asiago Cheese',\n",
       " 'Mozzarella Cheese, Provolone Cheese, Smoked Gouda Cheese, Romano Cheese, Blue Cheese, Garlic',\n",
       " 'Ricotta Cheese, Gorgonzola Piccante Cheese, Mozzarella Cheese, Parmigiano Reggiano Cheese, Garlic',\n",
       " 'Spinach, Mushrooms, Tomatoes, Green Olives, Feta Cheese',\n",
       " 'Eggplant, Artichokes, Tomatoes, Zucchini, Red Peppers, Garlic, Pesto Sauce',\n",
       " 'Spinach, Artichokes, Kalamata Olives, Sun-dried Tomatoes, Feta Cheese, Plum Tomatoes, Red Onions',\n",
       " 'Tomatoes, Red Peppers, Jalapeno Peppers, Red Onions, Cilantro, Corn, Chipotle Sauce, Garlic',\n",
       " 'Spinach, Artichokes, Tomatoes, Sun-dried Tomatoes, Garlic, Pesto Sauce',\n",
       " 'Spinach, Mushrooms, Red Onions, Feta Cheese, Garlic',\n",
       " 'Mushrooms, Tomatoes, Red Peppers, Green Peppers, Red Onions, Zucchini, Spinach, Garlic']"
      ]
     },
     "execution_count": 214,
     "metadata": {},
     "output_type": "execute_result"
    }
   ],
   "source": [
    "pizza_type['ingredients'].unique().tolist()"
   ]
  },
  {
   "cell_type": "code",
   "execution_count": null,
   "id": "57bb673e-9ba1-4fe5-a59b-15fde994a4e9",
   "metadata": {},
   "outputs": [],
   "source": []
  },
  {
   "cell_type": "code",
   "execution_count": 215,
   "id": "cac77a5b-5098-41b1-92fa-bfac4f8c0eb4",
   "metadata": {},
   "outputs": [],
   "source": [
    "#replace \\x91Nduja Salami\n",
    "pizza_type['ingredients'] = pizza_type['ingredients'].replace(\"\\x91Nduja Salami, Pancetta, Tomatoes, Red Onions, Friggitello Peppers, Garlic\",\"Nduja Salami, Pancetta, Tomatoes, Red Onions, Friggitello Peppers, Garlic\")\n",
    "pizza_type['ingredients'] = pizza_type['ingredients'].replace(\"Chicken, Artichoke, Spinach, Garlic, Jalapeno Peppers, Fontina Cheese, Gouda Cheese\",\"Chicken, Artichokes, Spinach, Garlic, Jalapeno Peppers, Fontina Cheese, Gouda Cheese\")\n"
   ]
  },
  {
   "cell_type": "code",
   "execution_count": 216,
   "id": "7a2594b0-313f-4edc-9b29-4a1c85868d46",
   "metadata": {},
   "outputs": [],
   "source": [
    "# unique list of ingredients used for pizzas\n",
    "list_of_ingredients = pizza_type['ingredients'].unique().tolist()\n",
    "\n",
    "#create a list of all ingredients used\n",
    "ingredients = []\n",
    "for item in list_of_ingredients:\n",
    "    list_of_items = item.split(\", \")\n",
    "    for n in list_of_items:\n",
    "        if n in ingredients:\n",
    "            pass\n",
    "        else:\n",
    "            ingredients.append(n)"
   ]
  },
  {
   "cell_type": "code",
   "execution_count": 217,
   "id": "2d7e8ffb-0a5a-48de-83c5-6fff6ae58322",
   "metadata": {},
   "outputs": [
    {
     "name": "stdout",
     "output_type": "stream",
     "text": [
      "['Barbecued Chicken', 'Red Peppers', 'Green Peppers', 'Tomatoes', 'Red Onions', 'Barbecue Sauce', 'Chicken', 'Artichokes', 'Spinach', 'Garlic', 'Jalapeno Peppers', 'Fontina Cheese', 'Gouda Cheese', 'Mushrooms', 'Asiago Cheese', 'Alfredo Sauce', 'Pesto Sauce', 'Corn', 'Cilantro', 'Chipotle Sauce', 'Pineapple', 'Thai Sweet Chilli Sauce', 'Bacon', 'Pepperoni', 'Italian Sausage', 'Chorizo Sausage', 'Sliced Ham', 'Mozzarella Cheese', 'Capocollo', 'Goat Cheese', 'Oregano', 'Anchovies', 'Green Olives', 'Kalamata Olives', 'Feta Cheese', 'Beef Chuck Roast', 'Brie Carre Cheese', 'Prosciutto', 'Caramelized Onions', 'Pears', 'Thyme', 'Nduja Salami', 'Pancetta', 'Friggitello Peppers', 'Calabrese Salami', 'Genoa Salami', 'Prosciutto di San Daniele', 'Arugula', 'Coarse Sicilian Salami', 'Luganega Sausage', 'Onions', 'Soppressata Salami', 'Peperoncini verdi', 'Provolone Cheese', 'Smoked Gouda Cheese', 'Romano Cheese', 'Blue Cheese', 'Ricotta Cheese', 'Gorgonzola Piccante Cheese', 'Parmigiano Reggiano Cheese', 'Eggplant', 'Zucchini', 'Sun-dried Tomatoes', 'Plum Tomatoes']\n"
     ]
    }
   ],
   "source": [
    "print(ingredients)"
   ]
  },
  {
   "cell_type": "code",
   "execution_count": 218,
   "id": "47fa08aa-04db-487c-9146-5eaa5820e1a8",
   "metadata": {},
   "outputs": [
    {
     "name": "stdout",
     "output_type": "stream",
     "text": [
      "Total 64 unique ingredients\n"
     ]
    }
   ],
   "source": [
    "# total number of unique ingredients\n",
    "print(f\"Total {len(ingredients)} unique ingredients\")"
   ]
  },
  {
   "cell_type": "code",
   "execution_count": 219,
   "id": "81c9bb4c-8698-4ea0-a216-9bc1c2f5af71",
   "metadata": {},
   "outputs": [],
   "source": [
    "# merge the order_Details and Pizzas type dataframes\n",
    "\n",
    "order_pizza =  pd.merge(pd.merge(order_details, pizzas, on='pizza_id', how='inner'), \n",
    "         pizza_type, on='pizza_type_id',how='inner')"
   ]
  },
  {
   "cell_type": "code",
   "execution_count": 220,
   "id": "4ca64ba2-d8b3-4aa8-a169-01a541c31e20",
   "metadata": {},
   "outputs": [
    {
     "data": {
      "text/html": [
       "<div>\n",
       "<style scoped>\n",
       "    .dataframe tbody tr th:only-of-type {\n",
       "        vertical-align: middle;\n",
       "    }\n",
       "\n",
       "    .dataframe tbody tr th {\n",
       "        vertical-align: top;\n",
       "    }\n",
       "\n",
       "    .dataframe thead th {\n",
       "        text-align: right;\n",
       "    }\n",
       "</style>\n",
       "<table border=\"1\" class=\"dataframe\">\n",
       "  <thead>\n",
       "    <tr style=\"text-align: right;\">\n",
       "      <th></th>\n",
       "      <th>order_details_id</th>\n",
       "      <th>order_id</th>\n",
       "      <th>pizza_id</th>\n",
       "      <th>quantity</th>\n",
       "      <th>pizza_type_id</th>\n",
       "      <th>size</th>\n",
       "      <th>price</th>\n",
       "      <th>name</th>\n",
       "      <th>category</th>\n",
       "      <th>ingredients</th>\n",
       "    </tr>\n",
       "  </thead>\n",
       "  <tbody>\n",
       "    <tr>\n",
       "      <th>0</th>\n",
       "      <td>1</td>\n",
       "      <td>1</td>\n",
       "      <td>hawaiian_m</td>\n",
       "      <td>1</td>\n",
       "      <td>hawaiian</td>\n",
       "      <td>M</td>\n",
       "      <td>13.25</td>\n",
       "      <td>The Hawaiian Pizza</td>\n",
       "      <td>Classic</td>\n",
       "      <td>[Sliced Ham, Pineapple, Mozzarella Cheese]</td>\n",
       "    </tr>\n",
       "    <tr>\n",
       "      <th>1</th>\n",
       "      <td>179</td>\n",
       "      <td>77</td>\n",
       "      <td>hawaiian_m</td>\n",
       "      <td>1</td>\n",
       "      <td>hawaiian</td>\n",
       "      <td>M</td>\n",
       "      <td>13.25</td>\n",
       "      <td>The Hawaiian Pizza</td>\n",
       "      <td>Classic</td>\n",
       "      <td>[Sliced Ham, Pineapple, Mozzarella Cheese]</td>\n",
       "    </tr>\n",
       "    <tr>\n",
       "      <th>2</th>\n",
       "      <td>357</td>\n",
       "      <td>146</td>\n",
       "      <td>hawaiian_m</td>\n",
       "      <td>1</td>\n",
       "      <td>hawaiian</td>\n",
       "      <td>M</td>\n",
       "      <td>13.25</td>\n",
       "      <td>The Hawaiian Pizza</td>\n",
       "      <td>Classic</td>\n",
       "      <td>[Sliced Ham, Pineapple, Mozzarella Cheese]</td>\n",
       "    </tr>\n",
       "    <tr>\n",
       "      <th>3</th>\n",
       "      <td>389</td>\n",
       "      <td>163</td>\n",
       "      <td>hawaiian_m</td>\n",
       "      <td>1</td>\n",
       "      <td>hawaiian</td>\n",
       "      <td>M</td>\n",
       "      <td>13.25</td>\n",
       "      <td>The Hawaiian Pizza</td>\n",
       "      <td>Classic</td>\n",
       "      <td>[Sliced Ham, Pineapple, Mozzarella Cheese]</td>\n",
       "    </tr>\n",
       "    <tr>\n",
       "      <th>4</th>\n",
       "      <td>568</td>\n",
       "      <td>247</td>\n",
       "      <td>hawaiian_m</td>\n",
       "      <td>1</td>\n",
       "      <td>hawaiian</td>\n",
       "      <td>M</td>\n",
       "      <td>13.25</td>\n",
       "      <td>The Hawaiian Pizza</td>\n",
       "      <td>Classic</td>\n",
       "      <td>[Sliced Ham, Pineapple, Mozzarella Cheese]</td>\n",
       "    </tr>\n",
       "    <tr>\n",
       "      <th>...</th>\n",
       "      <td>...</td>\n",
       "      <td>...</td>\n",
       "      <td>...</td>\n",
       "      <td>...</td>\n",
       "      <td>...</td>\n",
       "      <td>...</td>\n",
       "      <td>...</td>\n",
       "      <td>...</td>\n",
       "      <td>...</td>\n",
       "      <td>...</td>\n",
       "    </tr>\n",
       "    <tr>\n",
       "      <th>48615</th>\n",
       "      <td>48176</td>\n",
       "      <td>21167</td>\n",
       "      <td>brie_carre_s</td>\n",
       "      <td>1</td>\n",
       "      <td>brie_carre</td>\n",
       "      <td>S</td>\n",
       "      <td>23.65</td>\n",
       "      <td>The Brie Carre Pizza</td>\n",
       "      <td>Supreme</td>\n",
       "      <td>[Brie Carre Cheese, Prosciutto, Caramelized On...</td>\n",
       "    </tr>\n",
       "    <tr>\n",
       "      <th>48616</th>\n",
       "      <td>48244</td>\n",
       "      <td>21198</td>\n",
       "      <td>brie_carre_s</td>\n",
       "      <td>1</td>\n",
       "      <td>brie_carre</td>\n",
       "      <td>S</td>\n",
       "      <td>23.65</td>\n",
       "      <td>The Brie Carre Pizza</td>\n",
       "      <td>Supreme</td>\n",
       "      <td>[Brie Carre Cheese, Prosciutto, Caramelized On...</td>\n",
       "    </tr>\n",
       "    <tr>\n",
       "      <th>48617</th>\n",
       "      <td>48311</td>\n",
       "      <td>21225</td>\n",
       "      <td>brie_carre_s</td>\n",
       "      <td>1</td>\n",
       "      <td>brie_carre</td>\n",
       "      <td>S</td>\n",
       "      <td>23.65</td>\n",
       "      <td>The Brie Carre Pizza</td>\n",
       "      <td>Supreme</td>\n",
       "      <td>[Brie Carre Cheese, Prosciutto, Caramelized On...</td>\n",
       "    </tr>\n",
       "    <tr>\n",
       "      <th>48618</th>\n",
       "      <td>48456</td>\n",
       "      <td>21282</td>\n",
       "      <td>brie_carre_s</td>\n",
       "      <td>1</td>\n",
       "      <td>brie_carre</td>\n",
       "      <td>S</td>\n",
       "      <td>23.65</td>\n",
       "      <td>The Brie Carre Pizza</td>\n",
       "      <td>Supreme</td>\n",
       "      <td>[Brie Carre Cheese, Prosciutto, Caramelized On...</td>\n",
       "    </tr>\n",
       "    <tr>\n",
       "      <th>48619</th>\n",
       "      <td>48527</td>\n",
       "      <td>21308</td>\n",
       "      <td>brie_carre_s</td>\n",
       "      <td>1</td>\n",
       "      <td>brie_carre</td>\n",
       "      <td>S</td>\n",
       "      <td>23.65</td>\n",
       "      <td>The Brie Carre Pizza</td>\n",
       "      <td>Supreme</td>\n",
       "      <td>[Brie Carre Cheese, Prosciutto, Caramelized On...</td>\n",
       "    </tr>\n",
       "  </tbody>\n",
       "</table>\n",
       "<p>48620 rows × 10 columns</p>\n",
       "</div>"
      ],
      "text/plain": [
       "       order_details_id  order_id      pizza_id  quantity pizza_type_id size  \\\n",
       "0                     1         1    hawaiian_m         1      hawaiian    M   \n",
       "1                   179        77    hawaiian_m         1      hawaiian    M   \n",
       "2                   357       146    hawaiian_m         1      hawaiian    M   \n",
       "3                   389       163    hawaiian_m         1      hawaiian    M   \n",
       "4                   568       247    hawaiian_m         1      hawaiian    M   \n",
       "...                 ...       ...           ...       ...           ...  ...   \n",
       "48615             48176     21167  brie_carre_s         1    brie_carre    S   \n",
       "48616             48244     21198  brie_carre_s         1    brie_carre    S   \n",
       "48617             48311     21225  brie_carre_s         1    brie_carre    S   \n",
       "48618             48456     21282  brie_carre_s         1    brie_carre    S   \n",
       "48619             48527     21308  brie_carre_s         1    brie_carre    S   \n",
       "\n",
       "       price                  name category  \\\n",
       "0      13.25    The Hawaiian Pizza  Classic   \n",
       "1      13.25    The Hawaiian Pizza  Classic   \n",
       "2      13.25    The Hawaiian Pizza  Classic   \n",
       "3      13.25    The Hawaiian Pizza  Classic   \n",
       "4      13.25    The Hawaiian Pizza  Classic   \n",
       "...      ...                   ...      ...   \n",
       "48615  23.65  The Brie Carre Pizza  Supreme   \n",
       "48616  23.65  The Brie Carre Pizza  Supreme   \n",
       "48617  23.65  The Brie Carre Pizza  Supreme   \n",
       "48618  23.65  The Brie Carre Pizza  Supreme   \n",
       "48619  23.65  The Brie Carre Pizza  Supreme   \n",
       "\n",
       "                                             ingredients  \n",
       "0             [Sliced Ham, Pineapple, Mozzarella Cheese]  \n",
       "1             [Sliced Ham, Pineapple, Mozzarella Cheese]  \n",
       "2             [Sliced Ham, Pineapple, Mozzarella Cheese]  \n",
       "3             [Sliced Ham, Pineapple, Mozzarella Cheese]  \n",
       "4             [Sliced Ham, Pineapple, Mozzarella Cheese]  \n",
       "...                                                  ...  \n",
       "48615  [Brie Carre Cheese, Prosciutto, Caramelized On...  \n",
       "48616  [Brie Carre Cheese, Prosciutto, Caramelized On...  \n",
       "48617  [Brie Carre Cheese, Prosciutto, Caramelized On...  \n",
       "48618  [Brie Carre Cheese, Prosciutto, Caramelized On...  \n",
       "48619  [Brie Carre Cheese, Prosciutto, Caramelized On...  \n",
       "\n",
       "[48620 rows x 10 columns]"
      ]
     },
     "execution_count": 220,
     "metadata": {},
     "output_type": "execute_result"
    }
   ],
   "source": [
    "# convert the string form of ingredients into a list\n",
    "order_pizza['ingredients'] = order_pizza['ingredients'].str.split(\", \")\n",
    "order_pizza"
   ]
  },
  {
   "cell_type": "code",
   "execution_count": 221,
   "id": "928eada5-70af-4ed6-a409-ddd364669fee",
   "metadata": {},
   "outputs": [],
   "source": [
    "#one hot encode the ingredients\n",
    "\n",
    "from sklearn.preprocessing import MultiLabelBinarizer\n",
    "\n",
    "mlb = MultiLabelBinarizer(sparse_output=True)\n",
    "\n",
    "order_pizza = order_pizza.join(\n",
    "                pd.DataFrame.sparse.from_spmatrix(\n",
    "                mlb.fit_transform(order_pizza.pop('ingredients')),\n",
    "                index=order_pizza.index,\n",
    "                columns=mlb.classes_))"
   ]
  },
  {
   "cell_type": "code",
   "execution_count": 222,
   "id": "bea6739f-df8f-4998-9b19-759eee545dc4",
   "metadata": {},
   "outputs": [
    {
     "data": {
      "text/html": [
       "<div>\n",
       "<style scoped>\n",
       "    .dataframe tbody tr th:only-of-type {\n",
       "        vertical-align: middle;\n",
       "    }\n",
       "\n",
       "    .dataframe tbody tr th {\n",
       "        vertical-align: top;\n",
       "    }\n",
       "\n",
       "    .dataframe thead th {\n",
       "        text-align: right;\n",
       "    }\n",
       "</style>\n",
       "<table border=\"1\" class=\"dataframe\">\n",
       "  <thead>\n",
       "    <tr style=\"text-align: right;\">\n",
       "      <th></th>\n",
       "      <th>order_details_id</th>\n",
       "      <th>order_id</th>\n",
       "      <th>pizza_id</th>\n",
       "      <th>quantity</th>\n",
       "      <th>pizza_type_id</th>\n",
       "      <th>size</th>\n",
       "      <th>price</th>\n",
       "      <th>name</th>\n",
       "      <th>category</th>\n",
       "      <th>Alfredo Sauce</th>\n",
       "      <th>...</th>\n",
       "      <th>Romano Cheese</th>\n",
       "      <th>Sliced Ham</th>\n",
       "      <th>Smoked Gouda Cheese</th>\n",
       "      <th>Soppressata Salami</th>\n",
       "      <th>Spinach</th>\n",
       "      <th>Sun-dried Tomatoes</th>\n",
       "      <th>Thai Sweet Chilli Sauce</th>\n",
       "      <th>Thyme</th>\n",
       "      <th>Tomatoes</th>\n",
       "      <th>Zucchini</th>\n",
       "    </tr>\n",
       "  </thead>\n",
       "  <tbody>\n",
       "    <tr>\n",
       "      <th>0</th>\n",
       "      <td>1</td>\n",
       "      <td>1</td>\n",
       "      <td>hawaiian_m</td>\n",
       "      <td>1</td>\n",
       "      <td>hawaiian</td>\n",
       "      <td>M</td>\n",
       "      <td>13.25</td>\n",
       "      <td>The Hawaiian Pizza</td>\n",
       "      <td>Classic</td>\n",
       "      <td>0</td>\n",
       "      <td>...</td>\n",
       "      <td>0</td>\n",
       "      <td>1</td>\n",
       "      <td>0</td>\n",
       "      <td>0</td>\n",
       "      <td>0</td>\n",
       "      <td>0</td>\n",
       "      <td>0</td>\n",
       "      <td>0</td>\n",
       "      <td>0</td>\n",
       "      <td>0</td>\n",
       "    </tr>\n",
       "    <tr>\n",
       "      <th>1</th>\n",
       "      <td>179</td>\n",
       "      <td>77</td>\n",
       "      <td>hawaiian_m</td>\n",
       "      <td>1</td>\n",
       "      <td>hawaiian</td>\n",
       "      <td>M</td>\n",
       "      <td>13.25</td>\n",
       "      <td>The Hawaiian Pizza</td>\n",
       "      <td>Classic</td>\n",
       "      <td>0</td>\n",
       "      <td>...</td>\n",
       "      <td>0</td>\n",
       "      <td>1</td>\n",
       "      <td>0</td>\n",
       "      <td>0</td>\n",
       "      <td>0</td>\n",
       "      <td>0</td>\n",
       "      <td>0</td>\n",
       "      <td>0</td>\n",
       "      <td>0</td>\n",
       "      <td>0</td>\n",
       "    </tr>\n",
       "    <tr>\n",
       "      <th>2</th>\n",
       "      <td>357</td>\n",
       "      <td>146</td>\n",
       "      <td>hawaiian_m</td>\n",
       "      <td>1</td>\n",
       "      <td>hawaiian</td>\n",
       "      <td>M</td>\n",
       "      <td>13.25</td>\n",
       "      <td>The Hawaiian Pizza</td>\n",
       "      <td>Classic</td>\n",
       "      <td>0</td>\n",
       "      <td>...</td>\n",
       "      <td>0</td>\n",
       "      <td>1</td>\n",
       "      <td>0</td>\n",
       "      <td>0</td>\n",
       "      <td>0</td>\n",
       "      <td>0</td>\n",
       "      <td>0</td>\n",
       "      <td>0</td>\n",
       "      <td>0</td>\n",
       "      <td>0</td>\n",
       "    </tr>\n",
       "    <tr>\n",
       "      <th>3</th>\n",
       "      <td>389</td>\n",
       "      <td>163</td>\n",
       "      <td>hawaiian_m</td>\n",
       "      <td>1</td>\n",
       "      <td>hawaiian</td>\n",
       "      <td>M</td>\n",
       "      <td>13.25</td>\n",
       "      <td>The Hawaiian Pizza</td>\n",
       "      <td>Classic</td>\n",
       "      <td>0</td>\n",
       "      <td>...</td>\n",
       "      <td>0</td>\n",
       "      <td>1</td>\n",
       "      <td>0</td>\n",
       "      <td>0</td>\n",
       "      <td>0</td>\n",
       "      <td>0</td>\n",
       "      <td>0</td>\n",
       "      <td>0</td>\n",
       "      <td>0</td>\n",
       "      <td>0</td>\n",
       "    </tr>\n",
       "    <tr>\n",
       "      <th>4</th>\n",
       "      <td>568</td>\n",
       "      <td>247</td>\n",
       "      <td>hawaiian_m</td>\n",
       "      <td>1</td>\n",
       "      <td>hawaiian</td>\n",
       "      <td>M</td>\n",
       "      <td>13.25</td>\n",
       "      <td>The Hawaiian Pizza</td>\n",
       "      <td>Classic</td>\n",
       "      <td>0</td>\n",
       "      <td>...</td>\n",
       "      <td>0</td>\n",
       "      <td>1</td>\n",
       "      <td>0</td>\n",
       "      <td>0</td>\n",
       "      <td>0</td>\n",
       "      <td>0</td>\n",
       "      <td>0</td>\n",
       "      <td>0</td>\n",
       "      <td>0</td>\n",
       "      <td>0</td>\n",
       "    </tr>\n",
       "  </tbody>\n",
       "</table>\n",
       "<p>5 rows × 73 columns</p>\n",
       "</div>"
      ],
      "text/plain": [
       "   order_details_id  order_id    pizza_id  quantity pizza_type_id size  price  \\\n",
       "0                 1         1  hawaiian_m         1      hawaiian    M  13.25   \n",
       "1               179        77  hawaiian_m         1      hawaiian    M  13.25   \n",
       "2               357       146  hawaiian_m         1      hawaiian    M  13.25   \n",
       "3               389       163  hawaiian_m         1      hawaiian    M  13.25   \n",
       "4               568       247  hawaiian_m         1      hawaiian    M  13.25   \n",
       "\n",
       "                 name category  Alfredo Sauce  ...  Romano Cheese  Sliced Ham  \\\n",
       "0  The Hawaiian Pizza  Classic              0  ...              0           1   \n",
       "1  The Hawaiian Pizza  Classic              0  ...              0           1   \n",
       "2  The Hawaiian Pizza  Classic              0  ...              0           1   \n",
       "3  The Hawaiian Pizza  Classic              0  ...              0           1   \n",
       "4  The Hawaiian Pizza  Classic              0  ...              0           1   \n",
       "\n",
       "   Smoked Gouda Cheese  Soppressata Salami  Spinach  Sun-dried Tomatoes  \\\n",
       "0                    0                   0        0                   0   \n",
       "1                    0                   0        0                   0   \n",
       "2                    0                   0        0                   0   \n",
       "3                    0                   0        0                   0   \n",
       "4                    0                   0        0                   0   \n",
       "\n",
       "   Thai Sweet Chilli Sauce  Thyme  Tomatoes  Zucchini  \n",
       "0                        0      0         0         0  \n",
       "1                        0      0         0         0  \n",
       "2                        0      0         0         0  \n",
       "3                        0      0         0         0  \n",
       "4                        0      0         0         0  \n",
       "\n",
       "[5 rows x 73 columns]"
      ]
     },
     "execution_count": 222,
     "metadata": {},
     "output_type": "execute_result"
    }
   ],
   "source": [
    "order_pizza.head()"
   ]
  },
  {
   "cell_type": "markdown",
   "id": "72601db0-707c-4083-b562-d4f62ee63e4e",
   "metadata": {
    "tags": []
   },
   "source": [
    "#### Check the most and least used ingredient\n",
    "\n"
   ]
  },
  {
   "cell_type": "code",
   "execution_count": 95,
   "id": "a2277475-003d-44ce-9fc9-f6282ca7a241",
   "metadata": {},
   "outputs": [
    {
     "data": {
      "text/plain": [
       "'Sliced Ham, Pineapple, Mozzarella Cheese'"
      ]
     },
     "execution_count": 95,
     "metadata": {},
     "output_type": "execute_result"
    }
   ],
   "source": [
    "order_pizza['ingredients'][0]"
   ]
  },
  {
   "cell_type": "code",
   "execution_count": 225,
   "id": "030fca1c-8023-403b-948a-42e101ed263b",
   "metadata": {},
   "outputs": [
    {
     "data": {
      "text/plain": [
       "Garlic                27422\n",
       "Tomatoes              26601\n",
       "Red Onions            19547\n",
       "Red Peppers           16284\n",
       "Mozzarella Cheese     10333\n",
       "                      ...  \n",
       "Thyme                   480\n",
       "Pears                   480\n",
       "Caramelized Onions      480\n",
       "Prosciutto              480\n",
       "Brie Carre Cheese       480\n",
       "Length: 63, dtype: int32"
      ]
     },
     "execution_count": 225,
     "metadata": {},
     "output_type": "execute_result"
    }
   ],
   "source": [
    "order_pizza.iloc[:,10:].sum().sort_values(ascending=False)"
   ]
  },
  {
   "cell_type": "markdown",
   "id": "eb3e78bd-d399-404a-9172-d495ace9342e",
   "metadata": {},
   "source": [
    "As we can see Garlic, Tomatoes, Red Onions, Red Peppers and Mozzarella Cheese are the most used ingredients in the variety of pizzas."
   ]
  },
  {
   "cell_type": "markdown",
   "id": "9166b968-c7b4-48ef-abbb-c7fd51db1766",
   "metadata": {},
   "source": [
    "## Checking pizzas dataset\n"
   ]
  },
  {
   "cell_type": "code",
   "execution_count": 43,
   "id": "f2782bb1-caf4-4e7a-8e0d-dc68418d4a74",
   "metadata": {},
   "outputs": [],
   "source": [
    "pizzas = pd.read_csv(cwd + \"/pizza_sales_data/pizzas.csv\")"
   ]
  },
  {
   "cell_type": "code",
   "execution_count": 44,
   "id": "0b04ba5a-8ccc-4911-a996-47dcc9901f16",
   "metadata": {},
   "outputs": [
    {
     "data": {
      "text/html": [
       "<div>\n",
       "<style scoped>\n",
       "    .dataframe tbody tr th:only-of-type {\n",
       "        vertical-align: middle;\n",
       "    }\n",
       "\n",
       "    .dataframe tbody tr th {\n",
       "        vertical-align: top;\n",
       "    }\n",
       "\n",
       "    .dataframe thead th {\n",
       "        text-align: right;\n",
       "    }\n",
       "</style>\n",
       "<table border=\"1\" class=\"dataframe\">\n",
       "  <thead>\n",
       "    <tr style=\"text-align: right;\">\n",
       "      <th></th>\n",
       "      <th>pizza_id</th>\n",
       "      <th>pizza_type_id</th>\n",
       "      <th>size</th>\n",
       "      <th>price</th>\n",
       "    </tr>\n",
       "  </thead>\n",
       "  <tbody>\n",
       "    <tr>\n",
       "      <th>0</th>\n",
       "      <td>bbq_ckn_s</td>\n",
       "      <td>bbq_ckn</td>\n",
       "      <td>S</td>\n",
       "      <td>12.75</td>\n",
       "    </tr>\n",
       "    <tr>\n",
       "      <th>1</th>\n",
       "      <td>bbq_ckn_m</td>\n",
       "      <td>bbq_ckn</td>\n",
       "      <td>M</td>\n",
       "      <td>16.75</td>\n",
       "    </tr>\n",
       "    <tr>\n",
       "      <th>2</th>\n",
       "      <td>bbq_ckn_l</td>\n",
       "      <td>bbq_ckn</td>\n",
       "      <td>L</td>\n",
       "      <td>20.75</td>\n",
       "    </tr>\n",
       "    <tr>\n",
       "      <th>3</th>\n",
       "      <td>cali_ckn_s</td>\n",
       "      <td>cali_ckn</td>\n",
       "      <td>S</td>\n",
       "      <td>12.75</td>\n",
       "    </tr>\n",
       "    <tr>\n",
       "      <th>4</th>\n",
       "      <td>cali_ckn_m</td>\n",
       "      <td>cali_ckn</td>\n",
       "      <td>M</td>\n",
       "      <td>16.75</td>\n",
       "    </tr>\n",
       "  </tbody>\n",
       "</table>\n",
       "</div>"
      ],
      "text/plain": [
       "     pizza_id pizza_type_id size  price\n",
       "0   bbq_ckn_s       bbq_ckn    S  12.75\n",
       "1   bbq_ckn_m       bbq_ckn    M  16.75\n",
       "2   bbq_ckn_l       bbq_ckn    L  20.75\n",
       "3  cali_ckn_s      cali_ckn    S  12.75\n",
       "4  cali_ckn_m      cali_ckn    M  16.75"
      ]
     },
     "execution_count": 44,
     "metadata": {},
     "output_type": "execute_result"
    }
   ],
   "source": [
    "pizzas.head()"
   ]
  },
  {
   "cell_type": "code",
   "execution_count": 45,
   "id": "d1e8a9a9-89dc-4816-857b-734600840d3a",
   "metadata": {},
   "outputs": [
    {
     "data": {
      "text/plain": [
       "(96, 4)"
      ]
     },
     "execution_count": 45,
     "metadata": {},
     "output_type": "execute_result"
    }
   ],
   "source": [
    "pizzas.shape"
   ]
  },
  {
   "cell_type": "code",
   "execution_count": 46,
   "id": "00f70523-3a5b-4335-9466-194548d38138",
   "metadata": {},
   "outputs": [
    {
     "data": {
      "text/plain": [
       "pizza_id  pizza_type_id  size   price\n",
       "False     False          False  False    96\n",
       "dtype: int64"
      ]
     },
     "execution_count": 46,
     "metadata": {},
     "output_type": "execute_result"
    }
   ],
   "source": [
    "#check for missing or null values\n",
    "pizzas.isnull().value_counts()"
   ]
  },
  {
   "cell_type": "markdown",
   "id": "cddda99f-a9c8-42ae-80c4-9e715e240a86",
   "metadata": {},
   "source": [
    "Overall the data is very cleaned and structured. There is no missing values or data discripancy. "
   ]
  },
  {
   "cell_type": "code",
   "execution_count": null,
   "id": "ff76c157-14aa-4e05-b0f3-80b66e53cb63",
   "metadata": {},
   "outputs": [],
   "source": []
  }
 ],
 "metadata": {
  "kernelspec": {
   "display_name": "Python 3 (ipykernel)",
   "language": "python",
   "name": "python3"
  },
  "language_info": {
   "codemirror_mode": {
    "name": "ipython",
    "version": 3
   },
   "file_extension": ".py",
   "mimetype": "text/x-python",
   "name": "python",
   "nbconvert_exporter": "python",
   "pygments_lexer": "ipython3",
   "version": "3.9.7"
  }
 },
 "nbformat": 4,
 "nbformat_minor": 5
}
