{
 "cells": [
  {
   "cell_type": "markdown",
   "id": "10d68fe3-7a70-4355-9bd9-afcf0d66628c",
   "metadata": {},
   "source": [
    "## Data Cleaning\n"
   ]
  },
  {
   "cell_type": "markdown",
   "id": "dc2e219d-936f-4f13-9e4d-60be5935553b",
   "metadata": {},
   "source": [
    "Data cleaning is an important step before the data is explored for analysis purpose or visualization. A cleaned data provides accurate, unbiased analysis results. "
   ]
  },
  {
   "cell_type": "code",
   "execution_count": 2,
   "id": "2579d3e2-7675-4db5-bbf0-ddacd8e7e880",
   "metadata": {},
   "outputs": [],
   "source": [
    "#imports\n",
    "\n",
    "import pandas as pd\n",
    "import numpy as np\n",
    "import os"
   ]
  },
  {
   "cell_type": "markdown",
   "id": "b2dbcaa8-3af0-4e82-85fd-967a1dc1f4c2",
   "metadata": {},
   "source": [
    "#### Checking Order Details "
   ]
  },
  {
   "cell_type": "code",
   "execution_count": 3,
   "id": "b686bc95-75a5-40d2-abc3-b4b7e3792d01",
   "metadata": {},
   "outputs": [],
   "source": [
    "#get the current working directory\n",
    "cwd = os.getcwd()\n",
    "\n",
    "order_details = pd.read_csv(cwd+\"/pizza_sales_data/order_details.csv\")"
   ]
  },
  {
   "cell_type": "code",
   "execution_count": 4,
   "id": "5407e20a-23a0-4c80-9c17-554066ba2971",
   "metadata": {},
   "outputs": [
    {
     "data": {
      "text/html": [
       "<div>\n",
       "<style scoped>\n",
       "    .dataframe tbody tr th:only-of-type {\n",
       "        vertical-align: middle;\n",
       "    }\n",
       "\n",
       "    .dataframe tbody tr th {\n",
       "        vertical-align: top;\n",
       "    }\n",
       "\n",
       "    .dataframe thead th {\n",
       "        text-align: right;\n",
       "    }\n",
       "</style>\n",
       "<table border=\"1\" class=\"dataframe\">\n",
       "  <thead>\n",
       "    <tr style=\"text-align: right;\">\n",
       "      <th></th>\n",
       "      <th>order_details_id</th>\n",
       "      <th>order_id</th>\n",
       "      <th>pizza_id</th>\n",
       "      <th>quantity</th>\n",
       "    </tr>\n",
       "  </thead>\n",
       "  <tbody>\n",
       "    <tr>\n",
       "      <th>0</th>\n",
       "      <td>1</td>\n",
       "      <td>1</td>\n",
       "      <td>hawaiian_m</td>\n",
       "      <td>1</td>\n",
       "    </tr>\n",
       "    <tr>\n",
       "      <th>1</th>\n",
       "      <td>2</td>\n",
       "      <td>2</td>\n",
       "      <td>classic_dlx_m</td>\n",
       "      <td>1</td>\n",
       "    </tr>\n",
       "    <tr>\n",
       "      <th>2</th>\n",
       "      <td>3</td>\n",
       "      <td>2</td>\n",
       "      <td>five_cheese_l</td>\n",
       "      <td>1</td>\n",
       "    </tr>\n",
       "    <tr>\n",
       "      <th>3</th>\n",
       "      <td>4</td>\n",
       "      <td>2</td>\n",
       "      <td>ital_supr_l</td>\n",
       "      <td>1</td>\n",
       "    </tr>\n",
       "    <tr>\n",
       "      <th>4</th>\n",
       "      <td>5</td>\n",
       "      <td>2</td>\n",
       "      <td>mexicana_m</td>\n",
       "      <td>1</td>\n",
       "    </tr>\n",
       "  </tbody>\n",
       "</table>\n",
       "</div>"
      ],
      "text/plain": [
       "   order_details_id  order_id       pizza_id  quantity\n",
       "0                 1         1     hawaiian_m         1\n",
       "1                 2         2  classic_dlx_m         1\n",
       "2                 3         2  five_cheese_l         1\n",
       "3                 4         2    ital_supr_l         1\n",
       "4                 5         2     mexicana_m         1"
      ]
     },
     "execution_count": 4,
     "metadata": {},
     "output_type": "execute_result"
    }
   ],
   "source": [
    "#first few rows\n",
    "order_details.head()"
   ]
  },
  {
   "cell_type": "code",
   "execution_count": 5,
   "id": "4c11ffbb-191d-4620-a986-f66b3b7895df",
   "metadata": {},
   "outputs": [
    {
     "data": {
      "text/plain": [
       "(48620, 4)"
      ]
     },
     "execution_count": 5,
     "metadata": {},
     "output_type": "execute_result"
    }
   ],
   "source": [
    "#size of the data\n",
    "order_details.shape"
   ]
  },
  {
   "cell_type": "code",
   "execution_count": 7,
   "id": "53f772b1-f781-46f3-94bc-279d29b55e84",
   "metadata": {},
   "outputs": [
    {
     "data": {
      "text/plain": [
       "order_details_id  order_id  pizza_id  quantity\n",
       "False             False     False     False       48620\n",
       "dtype: int64"
      ]
     },
     "execution_count": 7,
     "metadata": {},
     "output_type": "execute_result"
    }
   ],
   "source": [
    "#let's check for any null or missing values\n",
    "order_details.isnull().value_counts()"
   ]
  },
  {
   "cell_type": "code",
   "execution_count": 34,
   "id": "e77b9692-306b-4b10-b6e5-bd2683ccf6a2",
   "metadata": {},
   "outputs": [
    {
     "data": {
      "text/plain": [
       "21350"
      ]
     },
     "execution_count": 34,
     "metadata": {},
     "output_type": "execute_result"
    }
   ],
   "source": [
    "#let's check total unique order_ids \n",
    "len(order_details.order_id.unique())"
   ]
  },
  {
   "cell_type": "markdown",
   "id": "9a24783b-1fb0-411b-815e-8cff8ad8a273",
   "metadata": {},
   "source": [
    "There are 21350 unique orders placed with each order either having atleast 1 or more than 1 pizzas. Order id is a unique identifier for each order placed by a table. "
   ]
  },
  {
   "cell_type": "markdown",
   "id": "83d7ca07-28a4-405e-acc0-cc043d20a77c",
   "metadata": {},
   "source": [
    "#### Checking Orders dataset\n"
   ]
  },
  {
   "cell_type": "code",
   "execution_count": 25,
   "id": "fc90802a-669b-4ea7-809c-7ba183aba46f",
   "metadata": {},
   "outputs": [],
   "source": [
    "orders = pd.read_csv(cwd + \"/pizza_sales_data/orders.csv\")"
   ]
  },
  {
   "cell_type": "code",
   "execution_count": 26,
   "id": "0824bb78-c138-4244-9a73-e6b6ad87f2c8",
   "metadata": {},
   "outputs": [
    {
     "data": {
      "text/html": [
       "<div>\n",
       "<style scoped>\n",
       "    .dataframe tbody tr th:only-of-type {\n",
       "        vertical-align: middle;\n",
       "    }\n",
       "\n",
       "    .dataframe tbody tr th {\n",
       "        vertical-align: top;\n",
       "    }\n",
       "\n",
       "    .dataframe thead th {\n",
       "        text-align: right;\n",
       "    }\n",
       "</style>\n",
       "<table border=\"1\" class=\"dataframe\">\n",
       "  <thead>\n",
       "    <tr style=\"text-align: right;\">\n",
       "      <th></th>\n",
       "      <th>order_id</th>\n",
       "      <th>date</th>\n",
       "      <th>time</th>\n",
       "    </tr>\n",
       "  </thead>\n",
       "  <tbody>\n",
       "    <tr>\n",
       "      <th>0</th>\n",
       "      <td>1</td>\n",
       "      <td>2015-01-01</td>\n",
       "      <td>11:38:36</td>\n",
       "    </tr>\n",
       "    <tr>\n",
       "      <th>1</th>\n",
       "      <td>2</td>\n",
       "      <td>2015-01-01</td>\n",
       "      <td>11:57:40</td>\n",
       "    </tr>\n",
       "    <tr>\n",
       "      <th>2</th>\n",
       "      <td>3</td>\n",
       "      <td>2015-01-01</td>\n",
       "      <td>12:12:28</td>\n",
       "    </tr>\n",
       "    <tr>\n",
       "      <th>3</th>\n",
       "      <td>4</td>\n",
       "      <td>2015-01-01</td>\n",
       "      <td>12:16:31</td>\n",
       "    </tr>\n",
       "    <tr>\n",
       "      <th>4</th>\n",
       "      <td>5</td>\n",
       "      <td>2015-01-01</td>\n",
       "      <td>12:21:30</td>\n",
       "    </tr>\n",
       "  </tbody>\n",
       "</table>\n",
       "</div>"
      ],
      "text/plain": [
       "   order_id        date      time\n",
       "0         1  2015-01-01  11:38:36\n",
       "1         2  2015-01-01  11:57:40\n",
       "2         3  2015-01-01  12:12:28\n",
       "3         4  2015-01-01  12:16:31\n",
       "4         5  2015-01-01  12:21:30"
      ]
     },
     "execution_count": 26,
     "metadata": {},
     "output_type": "execute_result"
    }
   ],
   "source": [
    "#check first few rows\n",
    "\n",
    "orders.head()"
   ]
  },
  {
   "cell_type": "code",
   "execution_count": 27,
   "id": "4c50aa41-97a4-4fa2-b8ed-30e0c65c10e7",
   "metadata": {},
   "outputs": [
    {
     "data": {
      "text/plain": [
       "(21350, 3)"
      ]
     },
     "execution_count": 27,
     "metadata": {},
     "output_type": "execute_result"
    }
   ],
   "source": [
    "#size of the dataset\n",
    "orders.shape"
   ]
  },
  {
   "cell_type": "code",
   "execution_count": 35,
   "id": "d17738e9-bb37-42ce-8bcf-756fe680fdad",
   "metadata": {},
   "outputs": [
    {
     "data": {
      "text/plain": [
       "order_id  date   time \n",
       "False     False  False    21350\n",
       "dtype: int64"
      ]
     },
     "execution_count": 35,
     "metadata": {},
     "output_type": "execute_result"
    }
   ],
   "source": [
    "#check for missing or null values\n",
    "orders.isnull().value_counts()"
   ]
  },
  {
   "cell_type": "markdown",
   "id": "c6394469-42ff-45c2-a2fa-e1d67a15664c",
   "metadata": {},
   "source": [
    "#### Checking Pizza_types"
   ]
  },
  {
   "cell_type": "code",
   "execution_count": 38,
   "id": "c3186a19-4b8e-4046-849b-c36fd1463da5",
   "metadata": {},
   "outputs": [],
   "source": [
    "pizza_type = pd.read_csv(cwd + \"/pizza_sales_data/pizza_types.csv\",encoding = 'unicode_escape')"
   ]
  },
  {
   "cell_type": "code",
   "execution_count": 39,
   "id": "b3d9c389-232d-404e-8fb0-bf87afd710d9",
   "metadata": {},
   "outputs": [
    {
     "data": {
      "text/html": [
       "<div>\n",
       "<style scoped>\n",
       "    .dataframe tbody tr th:only-of-type {\n",
       "        vertical-align: middle;\n",
       "    }\n",
       "\n",
       "    .dataframe tbody tr th {\n",
       "        vertical-align: top;\n",
       "    }\n",
       "\n",
       "    .dataframe thead th {\n",
       "        text-align: right;\n",
       "    }\n",
       "</style>\n",
       "<table border=\"1\" class=\"dataframe\">\n",
       "  <thead>\n",
       "    <tr style=\"text-align: right;\">\n",
       "      <th></th>\n",
       "      <th>pizza_type_id</th>\n",
       "      <th>name</th>\n",
       "      <th>category</th>\n",
       "      <th>ingredients</th>\n",
       "    </tr>\n",
       "  </thead>\n",
       "  <tbody>\n",
       "    <tr>\n",
       "      <th>0</th>\n",
       "      <td>bbq_ckn</td>\n",
       "      <td>The Barbecue Chicken Pizza</td>\n",
       "      <td>Chicken</td>\n",
       "      <td>Barbecued Chicken, Red Peppers, Green Peppers,...</td>\n",
       "    </tr>\n",
       "    <tr>\n",
       "      <th>1</th>\n",
       "      <td>cali_ckn</td>\n",
       "      <td>The California Chicken Pizza</td>\n",
       "      <td>Chicken</td>\n",
       "      <td>Chicken, Artichoke, Spinach, Garlic, Jalapeno ...</td>\n",
       "    </tr>\n",
       "    <tr>\n",
       "      <th>2</th>\n",
       "      <td>ckn_alfredo</td>\n",
       "      <td>The Chicken Alfredo Pizza</td>\n",
       "      <td>Chicken</td>\n",
       "      <td>Chicken, Red Onions, Red Peppers, Mushrooms, A...</td>\n",
       "    </tr>\n",
       "    <tr>\n",
       "      <th>3</th>\n",
       "      <td>ckn_pesto</td>\n",
       "      <td>The Chicken Pesto Pizza</td>\n",
       "      <td>Chicken</td>\n",
       "      <td>Chicken, Tomatoes, Red Peppers, Spinach, Garli...</td>\n",
       "    </tr>\n",
       "    <tr>\n",
       "      <th>4</th>\n",
       "      <td>southw_ckn</td>\n",
       "      <td>The Southwest Chicken Pizza</td>\n",
       "      <td>Chicken</td>\n",
       "      <td>Chicken, Tomatoes, Red Peppers, Red Onions, Ja...</td>\n",
       "    </tr>\n",
       "  </tbody>\n",
       "</table>\n",
       "</div>"
      ],
      "text/plain": [
       "  pizza_type_id                          name category  \\\n",
       "0       bbq_ckn    The Barbecue Chicken Pizza  Chicken   \n",
       "1      cali_ckn  The California Chicken Pizza  Chicken   \n",
       "2   ckn_alfredo     The Chicken Alfredo Pizza  Chicken   \n",
       "3     ckn_pesto       The Chicken Pesto Pizza  Chicken   \n",
       "4    southw_ckn   The Southwest Chicken Pizza  Chicken   \n",
       "\n",
       "                                         ingredients  \n",
       "0  Barbecued Chicken, Red Peppers, Green Peppers,...  \n",
       "1  Chicken, Artichoke, Spinach, Garlic, Jalapeno ...  \n",
       "2  Chicken, Red Onions, Red Peppers, Mushrooms, A...  \n",
       "3  Chicken, Tomatoes, Red Peppers, Spinach, Garli...  \n",
       "4  Chicken, Tomatoes, Red Peppers, Red Onions, Ja...  "
      ]
     },
     "execution_count": 39,
     "metadata": {},
     "output_type": "execute_result"
    }
   ],
   "source": [
    "pizza_type.head()"
   ]
  },
  {
   "cell_type": "code",
   "execution_count": 40,
   "id": "7c58651d-f665-4697-b78b-bda93dbdbf4e",
   "metadata": {},
   "outputs": [
    {
     "data": {
      "text/plain": [
       "(32, 4)"
      ]
     },
     "execution_count": 40,
     "metadata": {},
     "output_type": "execute_result"
    }
   ],
   "source": [
    "pizza_type.shape"
   ]
  },
  {
   "cell_type": "code",
   "execution_count": 41,
   "id": "70e0a951-99dc-4332-bbf9-ee3fe63af68a",
   "metadata": {},
   "outputs": [
    {
     "data": {
      "text/plain": [
       "pizza_type_id  name   category  ingredients\n",
       "False          False  False     False          32\n",
       "dtype: int64"
      ]
     },
     "execution_count": 41,
     "metadata": {},
     "output_type": "execute_result"
    }
   ],
   "source": [
    "#check for null or missing values\n",
    "\n",
    "pizza_type.isnull().value_counts()"
   ]
  },
  {
   "cell_type": "code",
   "execution_count": 42,
   "id": "801e43ef-31d8-47f8-bd86-f849e1042ae9",
   "metadata": {},
   "outputs": [
    {
     "data": {
      "text/plain": [
       "Supreme    9\n",
       "Veggie     9\n",
       "Classic    8\n",
       "Chicken    6\n",
       "Name: category, dtype: int64"
      ]
     },
     "execution_count": 42,
     "metadata": {},
     "output_type": "execute_result"
    }
   ],
   "source": [
    "pizza_type.category.value_counts()"
   ]
  },
  {
   "cell_type": "markdown",
   "id": "9166b968-c7b4-48ef-abbb-c7fd51db1766",
   "metadata": {},
   "source": [
    "#### Checking pizzas dataset\n"
   ]
  },
  {
   "cell_type": "code",
   "execution_count": 43,
   "id": "f2782bb1-caf4-4e7a-8e0d-dc68418d4a74",
   "metadata": {},
   "outputs": [],
   "source": [
    "pizzas = pd.read_csv(cwd + \"/pizza_sales_data/pizzas.csv\")"
   ]
  },
  {
   "cell_type": "code",
   "execution_count": 44,
   "id": "0b04ba5a-8ccc-4911-a996-47dcc9901f16",
   "metadata": {},
   "outputs": [
    {
     "data": {
      "text/html": [
       "<div>\n",
       "<style scoped>\n",
       "    .dataframe tbody tr th:only-of-type {\n",
       "        vertical-align: middle;\n",
       "    }\n",
       "\n",
       "    .dataframe tbody tr th {\n",
       "        vertical-align: top;\n",
       "    }\n",
       "\n",
       "    .dataframe thead th {\n",
       "        text-align: right;\n",
       "    }\n",
       "</style>\n",
       "<table border=\"1\" class=\"dataframe\">\n",
       "  <thead>\n",
       "    <tr style=\"text-align: right;\">\n",
       "      <th></th>\n",
       "      <th>pizza_id</th>\n",
       "      <th>pizza_type_id</th>\n",
       "      <th>size</th>\n",
       "      <th>price</th>\n",
       "    </tr>\n",
       "  </thead>\n",
       "  <tbody>\n",
       "    <tr>\n",
       "      <th>0</th>\n",
       "      <td>bbq_ckn_s</td>\n",
       "      <td>bbq_ckn</td>\n",
       "      <td>S</td>\n",
       "      <td>12.75</td>\n",
       "    </tr>\n",
       "    <tr>\n",
       "      <th>1</th>\n",
       "      <td>bbq_ckn_m</td>\n",
       "      <td>bbq_ckn</td>\n",
       "      <td>M</td>\n",
       "      <td>16.75</td>\n",
       "    </tr>\n",
       "    <tr>\n",
       "      <th>2</th>\n",
       "      <td>bbq_ckn_l</td>\n",
       "      <td>bbq_ckn</td>\n",
       "      <td>L</td>\n",
       "      <td>20.75</td>\n",
       "    </tr>\n",
       "    <tr>\n",
       "      <th>3</th>\n",
       "      <td>cali_ckn_s</td>\n",
       "      <td>cali_ckn</td>\n",
       "      <td>S</td>\n",
       "      <td>12.75</td>\n",
       "    </tr>\n",
       "    <tr>\n",
       "      <th>4</th>\n",
       "      <td>cali_ckn_m</td>\n",
       "      <td>cali_ckn</td>\n",
       "      <td>M</td>\n",
       "      <td>16.75</td>\n",
       "    </tr>\n",
       "  </tbody>\n",
       "</table>\n",
       "</div>"
      ],
      "text/plain": [
       "     pizza_id pizza_type_id size  price\n",
       "0   bbq_ckn_s       bbq_ckn    S  12.75\n",
       "1   bbq_ckn_m       bbq_ckn    M  16.75\n",
       "2   bbq_ckn_l       bbq_ckn    L  20.75\n",
       "3  cali_ckn_s      cali_ckn    S  12.75\n",
       "4  cali_ckn_m      cali_ckn    M  16.75"
      ]
     },
     "execution_count": 44,
     "metadata": {},
     "output_type": "execute_result"
    }
   ],
   "source": [
    "pizzas.head()"
   ]
  },
  {
   "cell_type": "code",
   "execution_count": 45,
   "id": "d1e8a9a9-89dc-4816-857b-734600840d3a",
   "metadata": {},
   "outputs": [
    {
     "data": {
      "text/plain": [
       "(96, 4)"
      ]
     },
     "execution_count": 45,
     "metadata": {},
     "output_type": "execute_result"
    }
   ],
   "source": [
    "pizzas.shape"
   ]
  },
  {
   "cell_type": "code",
   "execution_count": 46,
   "id": "00f70523-3a5b-4335-9466-194548d38138",
   "metadata": {},
   "outputs": [
    {
     "data": {
      "text/plain": [
       "pizza_id  pizza_type_id  size   price\n",
       "False     False          False  False    96\n",
       "dtype: int64"
      ]
     },
     "execution_count": 46,
     "metadata": {},
     "output_type": "execute_result"
    }
   ],
   "source": [
    "#check for missing or null values\n",
    "pizzas.isnull().value_counts()"
   ]
  },
  {
   "cell_type": "markdown",
   "id": "cddda99f-a9c8-42ae-80c4-9e715e240a86",
   "metadata": {},
   "source": [
    "Overall the data is very cleaned and structured. There is no missing values or data discripancy. "
   ]
  },
  {
   "cell_type": "code",
   "execution_count": null,
   "id": "ff76c157-14aa-4e05-b0f3-80b66e53cb63",
   "metadata": {},
   "outputs": [],
   "source": []
  }
 ],
 "metadata": {
  "kernelspec": {
   "display_name": "Python 3 (ipykernel)",
   "language": "python",
   "name": "python3"
  },
  "language_info": {
   "codemirror_mode": {
    "name": "ipython",
    "version": 3
   },
   "file_extension": ".py",
   "mimetype": "text/x-python",
   "name": "python",
   "nbconvert_exporter": "python",
   "pygments_lexer": "ipython3",
   "version": "3.9.7"
  }
 },
 "nbformat": 4,
 "nbformat_minor": 5
}
