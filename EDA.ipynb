{
 "cells": [
  {
   "cell_type": "markdown",
   "id": "c7c22751-c799-4db2-ad88-4b1a6eebaf77",
   "metadata": {},
   "source": [
    "## Exploratory Data Analysis\n",
    "\n"
   ]
  },
  {
   "cell_type": "code",
   "execution_count": 112,
   "id": "c7c01efc-c09c-4998-b6ae-8c014c8dd080",
   "metadata": {},
   "outputs": [
    {
     "name": "stderr",
     "output_type": "stream",
     "text": [
      "C:\\Users\\hardi\\anaconda3\\lib\\site-packages\\scipy\\__init__.py:146: UserWarning: A NumPy version >=1.16.5 and <1.23.0 is required for this version of SciPy (detected version 1.23.2\n",
      "  warnings.warn(f\"A NumPy version >={np_minversion} and <{np_maxversion}\"\n"
     ]
    }
   ],
   "source": [
    "#imports\n",
    "\n",
    "import pandas as pd\n",
    "import numpy as np\n",
    "import os\n",
    "import matplotlib.pyplot as plt\n",
    "import calendar\n",
    "import seaborn as sns"
   ]
  },
  {
   "cell_type": "code",
   "execution_count": 2,
   "id": "5ef3d0f9-a863-43de-a997-54067612a84f",
   "metadata": {},
   "outputs": [],
   "source": [
    "#get the current working directory\n",
    "cwd = os.getcwd()\n",
    "\n",
    "order_details = pd.read_csv(cwd+\"/pizza_sales_data/order_details.csv\")\n",
    "orders = pd.read_csv(cwd + \"/pizza_sales_data/orders.csv\")\n",
    "pizza_type = pd.read_csv(cwd + \"/pizza_sales_data/pizza_types.csv\",encoding = 'unicode_escape')\n",
    "pizzas = pd.read_csv(cwd + \"/pizza_sales_data/pizzas.csv\")"
   ]
  },
  {
   "cell_type": "code",
   "execution_count": null,
   "id": "e0fcfc4f-fe96-4eb4-a92e-dabac2b5175d",
   "metadata": {},
   "outputs": [],
   "source": []
  },
  {
   "cell_type": "code",
   "execution_count": 3,
   "id": "2c99203b-f8f5-4427-870a-f8c8285da417",
   "metadata": {},
   "outputs": [
    {
     "data": {
      "text/html": [
       "<div>\n",
       "<style scoped>\n",
       "    .dataframe tbody tr th:only-of-type {\n",
       "        vertical-align: middle;\n",
       "    }\n",
       "\n",
       "    .dataframe tbody tr th {\n",
       "        vertical-align: top;\n",
       "    }\n",
       "\n",
       "    .dataframe thead th {\n",
       "        text-align: right;\n",
       "    }\n",
       "</style>\n",
       "<table border=\"1\" class=\"dataframe\">\n",
       "  <thead>\n",
       "    <tr style=\"text-align: right;\">\n",
       "      <th></th>\n",
       "      <th>order_details_id</th>\n",
       "      <th>order_id</th>\n",
       "      <th>pizza_id</th>\n",
       "      <th>quantity</th>\n",
       "    </tr>\n",
       "  </thead>\n",
       "  <tbody>\n",
       "    <tr>\n",
       "      <th>0</th>\n",
       "      <td>1</td>\n",
       "      <td>1</td>\n",
       "      <td>hawaiian_m</td>\n",
       "      <td>1</td>\n",
       "    </tr>\n",
       "    <tr>\n",
       "      <th>1</th>\n",
       "      <td>2</td>\n",
       "      <td>2</td>\n",
       "      <td>classic_dlx_m</td>\n",
       "      <td>1</td>\n",
       "    </tr>\n",
       "    <tr>\n",
       "      <th>2</th>\n",
       "      <td>3</td>\n",
       "      <td>2</td>\n",
       "      <td>five_cheese_l</td>\n",
       "      <td>1</td>\n",
       "    </tr>\n",
       "    <tr>\n",
       "      <th>3</th>\n",
       "      <td>4</td>\n",
       "      <td>2</td>\n",
       "      <td>ital_supr_l</td>\n",
       "      <td>1</td>\n",
       "    </tr>\n",
       "    <tr>\n",
       "      <th>4</th>\n",
       "      <td>5</td>\n",
       "      <td>2</td>\n",
       "      <td>mexicana_m</td>\n",
       "      <td>1</td>\n",
       "    </tr>\n",
       "    <tr>\n",
       "      <th>...</th>\n",
       "      <td>...</td>\n",
       "      <td>...</td>\n",
       "      <td>...</td>\n",
       "      <td>...</td>\n",
       "    </tr>\n",
       "    <tr>\n",
       "      <th>48615</th>\n",
       "      <td>48616</td>\n",
       "      <td>21348</td>\n",
       "      <td>ckn_alfredo_m</td>\n",
       "      <td>1</td>\n",
       "    </tr>\n",
       "    <tr>\n",
       "      <th>48616</th>\n",
       "      <td>48617</td>\n",
       "      <td>21348</td>\n",
       "      <td>four_cheese_l</td>\n",
       "      <td>1</td>\n",
       "    </tr>\n",
       "    <tr>\n",
       "      <th>48617</th>\n",
       "      <td>48618</td>\n",
       "      <td>21348</td>\n",
       "      <td>napolitana_s</td>\n",
       "      <td>1</td>\n",
       "    </tr>\n",
       "    <tr>\n",
       "      <th>48618</th>\n",
       "      <td>48619</td>\n",
       "      <td>21349</td>\n",
       "      <td>mexicana_l</td>\n",
       "      <td>1</td>\n",
       "    </tr>\n",
       "    <tr>\n",
       "      <th>48619</th>\n",
       "      <td>48620</td>\n",
       "      <td>21350</td>\n",
       "      <td>bbq_ckn_s</td>\n",
       "      <td>1</td>\n",
       "    </tr>\n",
       "  </tbody>\n",
       "</table>\n",
       "<p>48620 rows × 4 columns</p>\n",
       "</div>"
      ],
      "text/plain": [
       "       order_details_id  order_id       pizza_id  quantity\n",
       "0                     1         1     hawaiian_m         1\n",
       "1                     2         2  classic_dlx_m         1\n",
       "2                     3         2  five_cheese_l         1\n",
       "3                     4         2    ital_supr_l         1\n",
       "4                     5         2     mexicana_m         1\n",
       "...                 ...       ...            ...       ...\n",
       "48615             48616     21348  ckn_alfredo_m         1\n",
       "48616             48617     21348  four_cheese_l         1\n",
       "48617             48618     21348   napolitana_s         1\n",
       "48618             48619     21349     mexicana_l         1\n",
       "48619             48620     21350      bbq_ckn_s         1\n",
       "\n",
       "[48620 rows x 4 columns]"
      ]
     },
     "execution_count": 3,
     "metadata": {},
     "output_type": "execute_result"
    }
   ],
   "source": [
    "#let's check the order details\n",
    "order_details"
   ]
  },
  {
   "cell_type": "code",
   "execution_count": 13,
   "id": "81312903-cfaa-42cc-8a29-ba3c7ec814a8",
   "metadata": {},
   "outputs": [
    {
     "data": {
      "text/plain": [
       "pizza_id\n",
       "big_meat_s        1914\n",
       "thai_ckn_l        1410\n",
       "five_cheese_l     1409\n",
       "four_cheese_l     1316\n",
       "classic_dlx_m     1181\n",
       "                  ... \n",
       "mexicana_s         162\n",
       "calabrese_s         99\n",
       "ckn_alfredo_s       96\n",
       "green_garden_l      95\n",
       "the_greek_xxl       28\n",
       "Name: quantity, Length: 91, dtype: int64"
      ]
     },
     "execution_count": 13,
     "metadata": {},
     "output_type": "execute_result"
    }
   ],
   "source": [
    "order_details.groupby('pizza_id')['quantity'].sum().sort_values(ascending=False)"
   ]
  },
  {
   "cell_type": "markdown",
   "id": "297aa0c2-26ee-4fa9-a194-d129c936c411",
   "metadata": {},
   "source": [
    "Clearly Big Meat Pizza is the best selling and The Greek is the worst selling but in different categories of sizes. Thai Chicken is best selling in Large size and Classic deluxe is best selling in medium size pizzas."
   ]
  },
  {
   "cell_type": "code",
   "execution_count": 14,
   "id": "6f5a9c10-db46-4088-a8da-13d9fcaefa7f",
   "metadata": {},
   "outputs": [
    {
     "data": {
      "text/html": [
       "<div>\n",
       "<style scoped>\n",
       "    .dataframe tbody tr th:only-of-type {\n",
       "        vertical-align: middle;\n",
       "    }\n",
       "\n",
       "    .dataframe tbody tr th {\n",
       "        vertical-align: top;\n",
       "    }\n",
       "\n",
       "    .dataframe thead th {\n",
       "        text-align: right;\n",
       "    }\n",
       "</style>\n",
       "<table border=\"1\" class=\"dataframe\">\n",
       "  <thead>\n",
       "    <tr style=\"text-align: right;\">\n",
       "      <th></th>\n",
       "      <th>order_id</th>\n",
       "      <th>date</th>\n",
       "      <th>time</th>\n",
       "    </tr>\n",
       "  </thead>\n",
       "  <tbody>\n",
       "    <tr>\n",
       "      <th>0</th>\n",
       "      <td>1</td>\n",
       "      <td>2015-01-01</td>\n",
       "      <td>11:38:36</td>\n",
       "    </tr>\n",
       "    <tr>\n",
       "      <th>1</th>\n",
       "      <td>2</td>\n",
       "      <td>2015-01-01</td>\n",
       "      <td>11:57:40</td>\n",
       "    </tr>\n",
       "    <tr>\n",
       "      <th>2</th>\n",
       "      <td>3</td>\n",
       "      <td>2015-01-01</td>\n",
       "      <td>12:12:28</td>\n",
       "    </tr>\n",
       "    <tr>\n",
       "      <th>3</th>\n",
       "      <td>4</td>\n",
       "      <td>2015-01-01</td>\n",
       "      <td>12:16:31</td>\n",
       "    </tr>\n",
       "    <tr>\n",
       "      <th>4</th>\n",
       "      <td>5</td>\n",
       "      <td>2015-01-01</td>\n",
       "      <td>12:21:30</td>\n",
       "    </tr>\n",
       "    <tr>\n",
       "      <th>...</th>\n",
       "      <td>...</td>\n",
       "      <td>...</td>\n",
       "      <td>...</td>\n",
       "    </tr>\n",
       "    <tr>\n",
       "      <th>21345</th>\n",
       "      <td>21346</td>\n",
       "      <td>2015-12-31</td>\n",
       "      <td>20:51:07</td>\n",
       "    </tr>\n",
       "    <tr>\n",
       "      <th>21346</th>\n",
       "      <td>21347</td>\n",
       "      <td>2015-12-31</td>\n",
       "      <td>21:14:37</td>\n",
       "    </tr>\n",
       "    <tr>\n",
       "      <th>21347</th>\n",
       "      <td>21348</td>\n",
       "      <td>2015-12-31</td>\n",
       "      <td>21:23:10</td>\n",
       "    </tr>\n",
       "    <tr>\n",
       "      <th>21348</th>\n",
       "      <td>21349</td>\n",
       "      <td>2015-12-31</td>\n",
       "      <td>22:09:54</td>\n",
       "    </tr>\n",
       "    <tr>\n",
       "      <th>21349</th>\n",
       "      <td>21350</td>\n",
       "      <td>2015-12-31</td>\n",
       "      <td>23:02:05</td>\n",
       "    </tr>\n",
       "  </tbody>\n",
       "</table>\n",
       "<p>21350 rows × 3 columns</p>\n",
       "</div>"
      ],
      "text/plain": [
       "       order_id        date      time\n",
       "0             1  2015-01-01  11:38:36\n",
       "1             2  2015-01-01  11:57:40\n",
       "2             3  2015-01-01  12:12:28\n",
       "3             4  2015-01-01  12:16:31\n",
       "4             5  2015-01-01  12:21:30\n",
       "...         ...         ...       ...\n",
       "21345     21346  2015-12-31  20:51:07\n",
       "21346     21347  2015-12-31  21:14:37\n",
       "21347     21348  2015-12-31  21:23:10\n",
       "21348     21349  2015-12-31  22:09:54\n",
       "21349     21350  2015-12-31  23:02:05\n",
       "\n",
       "[21350 rows x 3 columns]"
      ]
     },
     "execution_count": 14,
     "metadata": {},
     "output_type": "execute_result"
    }
   ],
   "source": [
    "orders"
   ]
  },
  {
   "cell_type": "code",
   "execution_count": 30,
   "id": "a75699e3-971b-49c8-8c85-5493ce49a215",
   "metadata": {},
   "outputs": [
    {
     "data": {
      "text/plain": [
       "pizza_id\n",
       "thai_ckn_l        28323.75\n",
       "five_cheese_l     25141.50\n",
       "four_cheese_l     22850.35\n",
       "spicy_ital_l      22576.00\n",
       "big_meat_s        21732.00\n",
       "                    ...   \n",
       "mexicana_s         1920.00\n",
       "green_garden_l     1903.50\n",
       "ckn_alfredo_s      1224.00\n",
       "calabrese_s        1212.75\n",
       "the_greek_xxl      1006.60\n",
       "Name: price, Length: 91, dtype: float64"
      ]
     },
     "execution_count": 30,
     "metadata": {},
     "output_type": "execute_result"
    }
   ],
   "source": [
    "#Let's try to find the sales\n",
    "\n",
    "order_price = pd.merge(pd.merge(order_details, orders, on='order_id', how='inner'), \n",
    "         pizzas, on='pizza_id',how='inner')\n",
    "order_price.groupby('pizza_id')['price'].sum().sort_values(ascending=False)"
   ]
  },
  {
   "cell_type": "markdown",
   "id": "0ef9033e-2119-4d0e-869a-8abc07f199d0",
   "metadata": {},
   "source": [
    "Thai Chicken pizza is highest selling as well as it generates high revenue. However, clearly, the business needs to focus on The Greek Pizza. It is the least selling pizza as well. "
   ]
  },
  {
   "cell_type": "markdown",
   "id": "26509e39-5ca3-416a-bf6b-e4f8c26b2166",
   "metadata": {},
   "source": [
    "### Average Order value"
   ]
  },
  {
   "cell_type": "code",
   "execution_count": 42,
   "id": "51727006-6fef-4177-b83c-6c5c158f9aad",
   "metadata": {},
   "outputs": [
    {
     "name": "stdout",
     "output_type": "stream",
     "text": [
      "$16.49 is the average order value\n"
     ]
    }
   ],
   "source": [
    "#Let's check the average order value\n",
    "print(f\" ${round(order_price['price'].mean(),2)} is the average order value\")"
   ]
  },
  {
   "cell_type": "markdown",
   "id": "b47e5299-e4a9-4494-acb5-8e5774646895",
   "metadata": {},
   "source": [
    "### Revenue over months"
   ]
  },
  {
   "cell_type": "code",
   "execution_count": 51,
   "id": "f621b76e-683a-419a-93fc-3b49f934292a",
   "metadata": {},
   "outputs": [],
   "source": [
    "#Let's convert the object to datetime for date column\n",
    "\n",
    "order_price['date'] = pd.to_datetime(order_price['date'])"
   ]
  },
  {
   "cell_type": "code",
   "execution_count": 85,
   "id": "34037e1c-66df-4d38-bf2d-db8afc0c9279",
   "metadata": {},
   "outputs": [],
   "source": [
    "#;et's add a column of month to our new dataset\n",
    "order_price['month'] = order_price['date'].dt.month\n",
    "order_price['weekday'] = order_price['date'].dt.weekday\n",
    "order_price['weekday_name'] = order_price['date'].dt.day_name()"
   ]
  },
  {
   "cell_type": "code",
   "execution_count": 86,
   "id": "38dfd9df-7d75-465e-9ca5-6e66d0ebc855",
   "metadata": {},
   "outputs": [
    {
     "data": {
      "text/html": [
       "<div>\n",
       "<style scoped>\n",
       "    .dataframe tbody tr th:only-of-type {\n",
       "        vertical-align: middle;\n",
       "    }\n",
       "\n",
       "    .dataframe tbody tr th {\n",
       "        vertical-align: top;\n",
       "    }\n",
       "\n",
       "    .dataframe thead th {\n",
       "        text-align: right;\n",
       "    }\n",
       "</style>\n",
       "<table border=\"1\" class=\"dataframe\">\n",
       "  <thead>\n",
       "    <tr style=\"text-align: right;\">\n",
       "      <th></th>\n",
       "      <th>order_details_id</th>\n",
       "      <th>order_id</th>\n",
       "      <th>pizza_id</th>\n",
       "      <th>quantity</th>\n",
       "      <th>date</th>\n",
       "      <th>time</th>\n",
       "      <th>pizza_type_id</th>\n",
       "      <th>size</th>\n",
       "      <th>price</th>\n",
       "      <th>month</th>\n",
       "      <th>weekday</th>\n",
       "      <th>weekday_name</th>\n",
       "    </tr>\n",
       "  </thead>\n",
       "  <tbody>\n",
       "    <tr>\n",
       "      <th>0</th>\n",
       "      <td>1</td>\n",
       "      <td>1</td>\n",
       "      <td>hawaiian_m</td>\n",
       "      <td>1</td>\n",
       "      <td>2015-01-01</td>\n",
       "      <td>11:38:36</td>\n",
       "      <td>hawaiian</td>\n",
       "      <td>M</td>\n",
       "      <td>13.25</td>\n",
       "      <td>1</td>\n",
       "      <td>3</td>\n",
       "      <td>Thursday</td>\n",
       "    </tr>\n",
       "    <tr>\n",
       "      <th>1</th>\n",
       "      <td>179</td>\n",
       "      <td>77</td>\n",
       "      <td>hawaiian_m</td>\n",
       "      <td>1</td>\n",
       "      <td>2015-01-02</td>\n",
       "      <td>12:22:46</td>\n",
       "      <td>hawaiian</td>\n",
       "      <td>M</td>\n",
       "      <td>13.25</td>\n",
       "      <td>1</td>\n",
       "      <td>4</td>\n",
       "      <td>Friday</td>\n",
       "    </tr>\n",
       "    <tr>\n",
       "      <th>2</th>\n",
       "      <td>357</td>\n",
       "      <td>146</td>\n",
       "      <td>hawaiian_m</td>\n",
       "      <td>1</td>\n",
       "      <td>2015-01-03</td>\n",
       "      <td>14:22:10</td>\n",
       "      <td>hawaiian</td>\n",
       "      <td>M</td>\n",
       "      <td>13.25</td>\n",
       "      <td>1</td>\n",
       "      <td>5</td>\n",
       "      <td>Saturday</td>\n",
       "    </tr>\n",
       "    <tr>\n",
       "      <th>3</th>\n",
       "      <td>389</td>\n",
       "      <td>163</td>\n",
       "      <td>hawaiian_m</td>\n",
       "      <td>1</td>\n",
       "      <td>2015-01-03</td>\n",
       "      <td>16:54:54</td>\n",
       "      <td>hawaiian</td>\n",
       "      <td>M</td>\n",
       "      <td>13.25</td>\n",
       "      <td>1</td>\n",
       "      <td>5</td>\n",
       "      <td>Saturday</td>\n",
       "    </tr>\n",
       "    <tr>\n",
       "      <th>4</th>\n",
       "      <td>568</td>\n",
       "      <td>247</td>\n",
       "      <td>hawaiian_m</td>\n",
       "      <td>1</td>\n",
       "      <td>2015-01-04</td>\n",
       "      <td>20:55:29</td>\n",
       "      <td>hawaiian</td>\n",
       "      <td>M</td>\n",
       "      <td>13.25</td>\n",
       "      <td>1</td>\n",
       "      <td>6</td>\n",
       "      <td>Sunday</td>\n",
       "    </tr>\n",
       "  </tbody>\n",
       "</table>\n",
       "</div>"
      ],
      "text/plain": [
       "   order_details_id  order_id    pizza_id  quantity       date      time  \\\n",
       "0                 1         1  hawaiian_m         1 2015-01-01  11:38:36   \n",
       "1               179        77  hawaiian_m         1 2015-01-02  12:22:46   \n",
       "2               357       146  hawaiian_m         1 2015-01-03  14:22:10   \n",
       "3               389       163  hawaiian_m         1 2015-01-03  16:54:54   \n",
       "4               568       247  hawaiian_m         1 2015-01-04  20:55:29   \n",
       "\n",
       "  pizza_type_id size  price  month  weekday weekday_name  \n",
       "0      hawaiian    M  13.25      1        3     Thursday  \n",
       "1      hawaiian    M  13.25      1        4       Friday  \n",
       "2      hawaiian    M  13.25      1        5     Saturday  \n",
       "3      hawaiian    M  13.25      1        5     Saturday  \n",
       "4      hawaiian    M  13.25      1        6       Sunday  "
      ]
     },
     "execution_count": 86,
     "metadata": {},
     "output_type": "execute_result"
    }
   ],
   "source": [
    "order_price.head()"
   ]
  },
  {
   "cell_type": "code",
   "execution_count": 71,
   "id": "017cc6c8-360e-4f75-abf5-b2e668ed9de1",
   "metadata": {},
   "outputs": [
    {
     "data": {
      "text/plain": [
       "Text(0, 0.5, 'Summed Price for each month')"
      ]
     },
     "execution_count": 71,
     "metadata": {},
     "output_type": "execute_result"
    },
    {
     "data": {
      "image/png": "[encoded data removed]",
      "text/plain": [
       "<Figure size 432x288 with 1 Axes>"
      ]
     },
     "metadata": {
      "needs_background": "light"
     },
     "output_type": "display_data"
    }
   ],
   "source": [
    "#now groupby month and check the total sales for each month\n",
    "\n",
    "order_price.groupby('month')['price'].sum().plot(kind='bar')\n",
    "plt.ylabel(\"Summed Price for each month\")"
   ]
  },
  {
   "cell_type": "markdown",
   "id": "c051be75-9a08-44ed-adff-b0cb942678ac",
   "metadata": {},
   "source": [
    "From the above chart, it appears that month of September and October had the lowest sales, however, the sales are fairly consitent across all month."
   ]
  },
  {
   "cell_type": "code",
   "execution_count": 111,
   "id": "e7689179-5891-441a-84dd-4af5a9d8d7e9",
   "metadata": {},
   "outputs": [
    {
     "data": {
      "text/plain": [
       "weekday_name\n",
       "Tuesday      12328.05\n",
       "Monday       11310.90\n",
       "Friday       10339.25\n",
       "Sunday        9064.35\n",
       "Thursday      8836.90\n",
       "Saturday      8817.90\n",
       "Wednesday     8500.65\n",
       "Name: price, dtype: float64"
      ]
     },
     "execution_count": 111,
     "metadata": {},
     "output_type": "execute_result"
    }
   ],
   "source": [
    "#let's check for the month of January which day the sales are high\n",
    "\n",
    "order_price[order_price['month']==1].groupby('weekday_name')['price'].sum().sort_values(ascending=False)"
   ]
  },
  {
   "cell_type": "markdown",
   "id": "acafb258-cf96-4958-a910-a0b3284b1ab8",
   "metadata": {},
   "source": [
    "This was for the month of january, let's try to find which days are doing better on average."
   ]
  },
  {
   "cell_type": "code",
   "execution_count": 116,
   "id": "58873bc5-a590-4772-b73e-cf332b67b2cb",
   "metadata": {},
   "outputs": [
    {
     "data": {
      "text/plain": [
       "weekday_name\n",
       "Friday       133773.90\n",
       "Thursday     120912.45\n",
       "Saturday     120865.30\n",
       "Wednesday    112006.45\n",
       "Tuesday      111764.70\n",
       "Monday       105357.15\n",
       "Sunday        97264.75\n",
       "Name: price, dtype: float64"
      ]
     },
     "execution_count": 116,
     "metadata": {},
     "output_type": "execute_result"
    }
   ],
   "source": [
    "order_price.groupby('weekday_name')['price'].sum().sort_values(ascending=False)"
   ]
  },
  {
   "cell_type": "code",
   "execution_count": 146,
   "id": "6fdcaf02-1a3a-420e-9e97-9e204f76c49c",
   "metadata": {},
   "outputs": [],
   "source": [
    "# unique list of ingredients used for pizzas\n",
    "list_of_ingredients = pizza_type['ingredients'].unique().tolist()"
   ]
  },
  {
   "cell_type": "code",
   "execution_count": 155,
   "id": "c674e751-13cd-4cb6-86a3-6c22151ca99b",
   "metadata": {},
   "outputs": [],
   "source": [
    "#create a list of all ingredients used\n",
    "ingredients = []\n",
    "for item in list_of_ingredients:\n",
    "    list_of_items = item.split(\", \")\n",
    "    for n in list_of_items:\n",
    "        if n in ingredients:\n",
    "            pass\n",
    "        else:\n",
    "            ingredients.append(n)\n",
    "    "
   ]
  },
  {
   "cell_type": "code",
   "execution_count": 159,
   "id": "186ccea0-57e6-44a1-8c10-151bc11590cf",
   "metadata": {},
   "outputs": [
    {
     "data": {
      "text/plain": [
       "['Barbecued Chicken',\n",
       " 'Red Peppers',\n",
       " 'Green Peppers',\n",
       " 'Tomatoes',\n",
       " 'Red Onions',\n",
       " 'Barbecue Sauce',\n",
       " 'Chicken',\n",
       " 'Artichoke',\n",
       " 'Spinach',\n",
       " 'Garlic',\n",
       " 'Jalapeno Peppers',\n",
       " 'Fontina Cheese',\n",
       " 'Gouda Cheese',\n",
       " 'Mushrooms',\n",
       " 'Asiago Cheese',\n",
       " 'Alfredo Sauce',\n",
       " 'Pesto Sauce',\n",
       " 'Corn',\n",
       " 'Cilantro',\n",
       " 'Chipotle Sauce',\n",
       " 'Pineapple',\n",
       " 'Thai Sweet Chilli Sauce',\n",
       " 'Bacon',\n",
       " 'Pepperoni',\n",
       " 'Italian Sausage',\n",
       " 'Chorizo Sausage',\n",
       " 'Sliced Ham',\n",
       " 'Mozzarella Cheese',\n",
       " 'Capocollo',\n",
       " 'Goat Cheese',\n",
       " 'Oregano',\n",
       " 'Anchovies',\n",
       " 'Green Olives',\n",
       " 'Kalamata Olives',\n",
       " 'Feta Cheese',\n",
       " 'Beef Chuck Roast',\n",
       " 'Brie Carre Cheese',\n",
       " 'Prosciutto',\n",
       " 'Caramelized Onions',\n",
       " 'Pears',\n",
       " 'Thyme',\n",
       " '\\x91Nduja Salami',\n",
       " 'Pancetta',\n",
       " 'Friggitello Peppers',\n",
       " 'Calabrese Salami',\n",
       " 'Genoa Salami',\n",
       " 'Prosciutto di San Daniele',\n",
       " 'Arugula',\n",
       " 'Coarse Sicilian Salami',\n",
       " 'Luganega Sausage',\n",
       " 'Onions',\n",
       " 'Soppressata Salami',\n",
       " 'Artichokes',\n",
       " 'Peperoncini verdi',\n",
       " 'Provolone Cheese',\n",
       " 'Smoked Gouda Cheese',\n",
       " 'Romano Cheese',\n",
       " 'Blue Cheese',\n",
       " 'Ricotta Cheese',\n",
       " 'Gorgonzola Piccante Cheese',\n",
       " 'Parmigiano Reggiano Cheese',\n",
       " 'Eggplant',\n",
       " 'Zucchini',\n",
       " 'Sun-dried Tomatoes',\n",
       " 'Plum Tomatoes']"
      ]
     },
     "execution_count": 159,
     "metadata": {},
     "output_type": "execute_result"
    }
   ],
   "source": [
    "#see the list\n",
    "ingredients"
   ]
  },
  {
   "cell_type": "markdown",
   "id": "d262380a-1f98-45b1-a994-0bdb74932637",
   "metadata": {},
   "source": [
    "Artichokes appear twice in the list, hence we will remove one item. There is item which needs name replacement."
   ]
  },
  {
   "cell_type": "code",
   "execution_count": 160,
   "id": "8644e538-cfe9-4dab-8fed-bd522c2a5335",
   "metadata": {},
   "outputs": [],
   "source": [
    "#remove artichoke\n",
    "ingredients.remove('Artichoke')\n"
   ]
  },
  {
   "cell_type": "code",
   "execution_count": 168,
   "id": "4a87711c-ca06-4692-81a4-5b4ce540b37a",
   "metadata": {},
   "outputs": [],
   "source": [
    "#get the index\n",
    "index = ingredients.index('\\x91Nduja Salami')\n",
    "\n",
    "#replace the item at that index with proper name\n",
    "ingredients[index] = \"Nduja Salami\""
   ]
  },
  {
   "cell_type": "code",
   "execution_count": 169,
   "id": "26871523-78a5-4d89-9717-8dbc097cc4c6",
   "metadata": {},
   "outputs": [
    {
     "data": {
      "text/plain": [
       "['Barbecued Chicken',\n",
       " 'Red Peppers',\n",
       " 'Green Peppers',\n",
       " 'Tomatoes',\n",
       " 'Red Onions',\n",
       " 'Barbecue Sauce',\n",
       " 'Chicken',\n",
       " 'Spinach',\n",
       " 'Garlic',\n",
       " 'Jalapeno Peppers',\n",
       " 'Fontina Cheese',\n",
       " 'Gouda Cheese',\n",
       " 'Mushrooms',\n",
       " 'Asiago Cheese',\n",
       " 'Alfredo Sauce',\n",
       " 'Pesto Sauce',\n",
       " 'Corn',\n",
       " 'Cilantro',\n",
       " 'Chipotle Sauce',\n",
       " 'Pineapple',\n",
       " 'Thai Sweet Chilli Sauce',\n",
       " 'Bacon',\n",
       " 'Pepperoni',\n",
       " 'Italian Sausage',\n",
       " 'Chorizo Sausage',\n",
       " 'Sliced Ham',\n",
       " 'Mozzarella Cheese',\n",
       " 'Capocollo',\n",
       " 'Goat Cheese',\n",
       " 'Oregano',\n",
       " 'Anchovies',\n",
       " 'Green Olives',\n",
       " 'Kalamata Olives',\n",
       " 'Feta Cheese',\n",
       " 'Beef Chuck Roast',\n",
       " 'Brie Carre Cheese',\n",
       " 'Prosciutto',\n",
       " 'Caramelized Onions',\n",
       " 'Pears',\n",
       " 'Thyme',\n",
       " 'Nduja Salami',\n",
       " 'Pancetta',\n",
       " 'Friggitello Peppers',\n",
       " 'Calabrese Salami',\n",
       " 'Genoa Salami',\n",
       " 'Prosciutto di San Daniele',\n",
       " 'Arugula',\n",
       " 'Coarse Sicilian Salami',\n",
       " 'Luganega Sausage',\n",
       " 'Onions',\n",
       " 'Soppressata Salami',\n",
       " 'Artichokes',\n",
       " 'Peperoncini verdi',\n",
       " 'Provolone Cheese',\n",
       " 'Smoked Gouda Cheese',\n",
       " 'Romano Cheese',\n",
       " 'Blue Cheese',\n",
       " 'Ricotta Cheese',\n",
       " 'Gorgonzola Piccante Cheese',\n",
       " 'Parmigiano Reggiano Cheese',\n",
       " 'Eggplant',\n",
       " 'Zucchini',\n",
       " 'Sun-dried Tomatoes',\n",
       " 'Plum Tomatoes']"
      ]
     },
     "execution_count": 169,
     "metadata": {},
     "output_type": "execute_result"
    }
   ],
   "source": [
    "ingredients"
   ]
  },
  {
   "cell_type": "code",
   "execution_count": null,
   "id": "b76524f3-ce20-4a4e-bc4a-9dcf83a0eb7e",
   "metadata": {},
   "outputs": [],
   "source": []
  }
 ],
 "metadata": {
  "kernelspec": {
   "display_name": "Python 3 (ipykernel)",
   "language": "python",
   "name": "python3"
  },
  "language_info": {
   "codemirror_mode": {
    "name": "ipython",
    "version": 3
   },
   "file_extension": ".py",
   "mimetype": "text/x-python",
   "name": "python",
   "nbconvert_exporter": "python",
   "pygments_lexer": "ipython3",
   "version": "3.9.7"
  }
 },
 "nbformat": 4,
 "nbformat_minor": 5
}
